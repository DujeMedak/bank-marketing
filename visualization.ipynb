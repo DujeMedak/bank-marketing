{
 "cells": [
  {
   "cell_type": "code",
   "execution_count": 1,
   "metadata": {
    "ExecuteTime": {
     "end_time": "2020-02-16T18:23:32.529636Z",
     "start_time": "2020-02-16T18:23:31.665457Z"
    },
    "code_folding": [
     0
    ],
    "pycharm": {
     "is_executing": false
    }
   },
   "outputs": [],
   "source": [
    "#imports\n",
    "from data_loader import DataLoader\n",
    "import pandas as pd\n",
    "import matplotlib.pyplot as plt\n",
    "%matplotlib inline\n",
    "import seaborn as sns\n",
    "import numpy as np"
   ]
  },
  {
   "cell_type": "code",
   "execution_count": 2,
   "metadata": {
    "ExecuteTime": {
     "end_time": "2020-02-16T18:23:32.534593Z",
     "start_time": "2020-02-16T18:23:32.530562Z"
    },
    "code_folding": [
     0
    ],
    "pycharm": {
     "is_executing": false
    }
   },
   "outputs": [],
   "source": [
    "# about dataset:\n",
    "\n",
    "# data is avalable here: https://archive.ics.uci.edu/ml/datasets/Bank+Marketing \n",
    "# This dataset is public available for research. The details are described in \n",
    "# [Moro et al., 2014] S. Moro, P. Cortez and P. Rita. A Data-Driven Approach to \n",
    "# Predict the Success of Bank Telemarketing. Decision Support Systems, Elsevier,\n",
    "# 62:22-31, June 2014\n",
    "\n"
   ]
  },
  {
   "cell_type": "markdown",
   "metadata": {},
   "source": [
    "\n",
    "# Input variables:\n",
    "## bank client data:\n",
    "1 - age (numeric)\n",
    "\n",
    "2 - job : type of job (categorical: 'admin.','blue-collar', 'entrepreneur', 'housemaid', 'management', 'retired', 'self-employed', 'services', 'student', 'technician', 'unemployed', 'unknown')\n",
    "\n",
    "3 - marital : marital status (categorical: 'divorced', 'married', 'single', 'unknown'; note: 'divorced' means divorced or widowed)\n",
    "\n",
    "4 - education (categorical:'basic.4y', 'basic.6y', 'basic.9y', 'high.school', 'illiterate' ,'professional.course', 'university.degree', 'unknown')\n",
    "\n",
    "5 - default: has credit in default? (categorical: 'no','yes','unknown')\n",
    "\n",
    "6 - housing: has housing loan? (categorical: 'no','yes','unknown')\n",
    "\n",
    "7 - loan: has personal loan? (categorical: 'no','yes','unknown')\n",
    "\n",
    "## related with the last contact of the current campaign:\n",
    "8 - contact: contact communication type (categorical: 'cellular','telephone')\n",
    "\n",
    "9 - month: last contact month of year (categorical: 'jan', 'feb', 'mar', ..., 'nov, 'dec')\n",
    "\n",
    "10 - day_of_week: last contact day of the week (categorical: 'mon', 'tue', 'wed', 'thu', 'fri')\n",
    "\n",
    "11 - duration: last contact duration, in seconds (numeric). Important note: this attribute highly affects the output target (e.g., if duration=0 then y='no'). Yet, the duration is not known before a call is performed. Also, after the end of the call y is obviously known. Thus, this input should only be included for benchmark purposes and should be discarded if the intention is to have a realistic predictive model.\n",
    "\n",
    "## other attributes:\n",
    "12 - campaign: number of contacts performed during this campaign and for this client (numeric, includes last contact)\n",
    "\n",
    "13 - pdays: number of days that passed by after the client was last contacted from a previous campaign (numeric; 999 means client was not previously contacted)\n",
    "\n",
    "14 - previous: number of contacts performed before this campaign and for this client (numeric)\n",
    "\n",
    "15 - poutcome: outcome of the previous marketing campaign (categorical: 'failure','nonexistent','success')\n",
    "\n",
    "## social and economic context attributes\n",
    "16 - emp.var.rate: employment variation rate - quarterly indicator (numeric)\n",
    "\n",
    "17 - cons.price.idx: consumer price index - monthly indicator (numeric)\n",
    "\n",
    "18 - cons.conf.idx: consumer confidence index - monthly indicator (numeric)\n",
    "\n",
    "19 - euribor3m: euribor 3 month rate - daily indicator (numeric)\n",
    "\n",
    "20 - nr.employed: number of employees - quarterly indicator (numeric)\n",
    "\n",
    "# Output variable (desired target):\n",
    "21 - y - has the client subscribed a term deposit? (binary: 'yes','no')\n"
   ]
  },
  {
   "cell_type": "code",
   "execution_count": 3,
   "metadata": {
    "ExecuteTime": {
     "end_time": "2020-02-16T18:23:33.007023Z",
     "start_time": "2020-02-16T18:23:33.003033Z"
    },
    "code_folding": [
     0
    ],
    "pycharm": {
     "is_executing": false
    }
   },
   "outputs": [],
   "source": [
    "# IDEJE \n",
    "# 14 - previous: --> convertat u 0 ili 1 je li bilo poziva prije ili ne\n",
    "# kad je 0 u previous onda je unkwon u outcome -> moze utjecat na vizualizaciju /korelaciju\n",
    "\n",
    "# plot kategoricki po labelama triba normalizirat jer je previse zastupljen broj negativa + odredenih poslova\n",
    "# pa se ni ne vidi ako je neka kategorija problematicna\n",
    "\n",
    "# 11-> duration -> tribalo bi izbacit -> pogledaj opis na kraju file-a"
   ]
  },
  {
   "cell_type": "code",
   "execution_count": 4,
   "metadata": {
    "ExecuteTime": {
     "end_time": "2020-02-16T18:23:33.358504Z",
     "start_time": "2020-02-16T18:23:33.322596Z"
    },
    "pycharm": {
     "is_executing": false
    }
   },
   "outputs": [
    {
     "name": "stdout",
     "text": [
      "loading data from: C:\\Users\\dujem\\PycharmProjects\\bank-marketing\\data\\bank.csv\n",
      "number of null elements: 0\n"
     ],
     "output_type": "stream"
    },
    {
     "data": {
      "text/plain": "   age          job  marital  education default  balance housing loan  \\\n0   30   unemployed  married    primary      no     1787      no   no   \n1   33     services  married  secondary      no     4789     yes  yes   \n2   35   management   single   tertiary      no     1350     yes   no   \n3   30   management  married   tertiary      no     1476     yes  yes   \n4   59  blue-collar  married  secondary      no        0     yes   no   \n\n    contact  day month  duration  campaign  pdays  previous poutcome  \n0  cellular   19   oct        79         1     -1         0  unknown  \n1  cellular   11   may       220         1    339         4  failure  \n2  cellular   16   apr       185         1    330         1  failure  \n3   unknown    3   jun       199         4     -1         0  unknown  \n4   unknown    5   may       226         1     -1         0  unknown  ",
      "text/html": "<div>\n<style scoped>\n    .dataframe tbody tr th:only-of-type {\n        vertical-align: middle;\n    }\n\n    .dataframe tbody tr th {\n        vertical-align: top;\n    }\n\n    .dataframe thead th {\n        text-align: right;\n    }\n</style>\n<table border=\"1\" class=\"dataframe\">\n  <thead>\n    <tr style=\"text-align: right;\">\n      <th></th>\n      <th>age</th>\n      <th>job</th>\n      <th>marital</th>\n      <th>education</th>\n      <th>default</th>\n      <th>balance</th>\n      <th>housing</th>\n      <th>loan</th>\n      <th>contact</th>\n      <th>day</th>\n      <th>month</th>\n      <th>duration</th>\n      <th>campaign</th>\n      <th>pdays</th>\n      <th>previous</th>\n      <th>poutcome</th>\n    </tr>\n  </thead>\n  <tbody>\n    <tr>\n      <th>0</th>\n      <td>30</td>\n      <td>unemployed</td>\n      <td>married</td>\n      <td>primary</td>\n      <td>no</td>\n      <td>1787</td>\n      <td>no</td>\n      <td>no</td>\n      <td>cellular</td>\n      <td>19</td>\n      <td>oct</td>\n      <td>79</td>\n      <td>1</td>\n      <td>-1</td>\n      <td>0</td>\n      <td>unknown</td>\n    </tr>\n    <tr>\n      <th>1</th>\n      <td>33</td>\n      <td>services</td>\n      <td>married</td>\n      <td>secondary</td>\n      <td>no</td>\n      <td>4789</td>\n      <td>yes</td>\n      <td>yes</td>\n      <td>cellular</td>\n      <td>11</td>\n      <td>may</td>\n      <td>220</td>\n      <td>1</td>\n      <td>339</td>\n      <td>4</td>\n      <td>failure</td>\n    </tr>\n    <tr>\n      <th>2</th>\n      <td>35</td>\n      <td>management</td>\n      <td>single</td>\n      <td>tertiary</td>\n      <td>no</td>\n      <td>1350</td>\n      <td>yes</td>\n      <td>no</td>\n      <td>cellular</td>\n      <td>16</td>\n      <td>apr</td>\n      <td>185</td>\n      <td>1</td>\n      <td>330</td>\n      <td>1</td>\n      <td>failure</td>\n    </tr>\n    <tr>\n      <th>3</th>\n      <td>30</td>\n      <td>management</td>\n      <td>married</td>\n      <td>tertiary</td>\n      <td>no</td>\n      <td>1476</td>\n      <td>yes</td>\n      <td>yes</td>\n      <td>unknown</td>\n      <td>3</td>\n      <td>jun</td>\n      <td>199</td>\n      <td>4</td>\n      <td>-1</td>\n      <td>0</td>\n      <td>unknown</td>\n    </tr>\n    <tr>\n      <th>4</th>\n      <td>59</td>\n      <td>blue-collar</td>\n      <td>married</td>\n      <td>secondary</td>\n      <td>no</td>\n      <td>0</td>\n      <td>yes</td>\n      <td>no</td>\n      <td>unknown</td>\n      <td>5</td>\n      <td>may</td>\n      <td>226</td>\n      <td>1</td>\n      <td>-1</td>\n      <td>0</td>\n      <td>unknown</td>\n    </tr>\n  </tbody>\n</table>\n</div>"
     },
     "metadata": {},
     "output_type": "execute_result",
     "execution_count": 4
    }
   ],
   "source": [
    "dl = DataLoader(\"./config.json\") # TODO load bank full later\n",
    "inputs, labels = dl.load_csv_data() #  TODO load all\n",
    "print(\"number of null elements:\", inputs.isnull().values.sum())\n",
    "inputs.head()\n"
   ]
  },
  {
   "cell_type": "code",
   "execution_count": 5,
   "metadata": {
    "ExecuteTime": {
     "end_time": "2020-02-16T18:23:37.684087Z",
     "start_time": "2020-02-16T18:23:37.674112Z"
    },
    "collapsed": true,
    "pycharm": {
     "is_executing": false
    }
   },
   "outputs": [
    {
     "name": "stdout",
     "text": [
      "<class 'pandas.core.frame.DataFrame'>\n",
      "RangeIndex: 4521 entries, 0 to 4520\n",
      "Data columns (total 16 columns):\n",
      " #   Column     Non-Null Count  Dtype \n",
      "---  ------     --------------  ----- \n",
      " 0   age        4521 non-null   int64 \n",
      " 1   job        4521 non-null   object\n",
      " 2   marital    4521 non-null   object\n",
      " 3   education  4521 non-null   object\n",
      " 4   default    4521 non-null   object\n",
      " 5   balance    4521 non-null   int64 \n",
      " 6   housing    4521 non-null   object\n",
      " 7   loan       4521 non-null   object\n",
      " 8   contact    4521 non-null   object\n",
      " 9   day        4521 non-null   int64 \n",
      " 10  month      4521 non-null   object\n",
      " 11  duration   4521 non-null   int64 \n",
      " 12  campaign   4521 non-null   int64 \n",
      " 13  pdays      4521 non-null   int64 \n",
      " 14  previous   4521 non-null   int64 \n",
      " 15  poutcome   4521 non-null   object\n",
      "dtypes: int64(7), object(9)\n",
      "memory usage: 565.2+ KB\n"
     ],
     "output_type": "stream"
    }
   ],
   "source": [
    "inputs.info()"
   ]
  },
  {
   "cell_type": "code",
   "execution_count": 6,
   "metadata": {
    "ExecuteTime": {
     "end_time": "2020-02-16T18:23:40.531475Z",
     "start_time": "2020-02-16T18:23:40.526489Z"
    },
    "pycharm": {
     "is_executing": false
    }
   },
   "outputs": [
    {
     "name": "stdout",
     "text": [
      "['education', 'default', 'month', 'loan', 'job', 'marital', 'contact', 'poutcome', 'housing']\n"
     ],
     "output_type": "stream"
    }
   ],
   "source": [
    "numeric_columns = ['age', 'balance', 'day', 'campaign', 'duration', 'pdays', 'previous']\n",
    "\n",
    "all_columns = inputs.columns\n",
    "categorical_columns = list(set(all_columns) - set(numeric_columns))\n",
    "print(categorical_columns)"
   ]
  },
  {
   "cell_type": "code",
   "execution_count": 7,
   "metadata": {
    "ExecuteTime": {
     "end_time": "2020-02-16T18:23:42.507444Z",
     "start_time": "2020-02-16T18:23:42.495475Z"
    },
    "pycharm": {
     "is_executing": false
    }
   },
   "outputs": [
    {
     "data": {
      "text/plain": "   age  balance  day  campaign  duration  pdays  previous   y\n0   30     1787   19         1        79     -1         0  no\n1   33     4789   11         1       220    339         4  no\n2   35     1350   16         1       185    330         1  no\n3   30     1476    3         4       199     -1         0  no\n4   59        0    5         1       226     -1         0  no",
      "text/html": "<div>\n<style scoped>\n    .dataframe tbody tr th:only-of-type {\n        vertical-align: middle;\n    }\n\n    .dataframe tbody tr th {\n        vertical-align: top;\n    }\n\n    .dataframe thead th {\n        text-align: right;\n    }\n</style>\n<table border=\"1\" class=\"dataframe\">\n  <thead>\n    <tr style=\"text-align: right;\">\n      <th></th>\n      <th>age</th>\n      <th>balance</th>\n      <th>day</th>\n      <th>campaign</th>\n      <th>duration</th>\n      <th>pdays</th>\n      <th>previous</th>\n      <th>y</th>\n    </tr>\n  </thead>\n  <tbody>\n    <tr>\n      <th>0</th>\n      <td>30</td>\n      <td>1787</td>\n      <td>19</td>\n      <td>1</td>\n      <td>79</td>\n      <td>-1</td>\n      <td>0</td>\n      <td>no</td>\n    </tr>\n    <tr>\n      <th>1</th>\n      <td>33</td>\n      <td>4789</td>\n      <td>11</td>\n      <td>1</td>\n      <td>220</td>\n      <td>339</td>\n      <td>4</td>\n      <td>no</td>\n    </tr>\n    <tr>\n      <th>2</th>\n      <td>35</td>\n      <td>1350</td>\n      <td>16</td>\n      <td>1</td>\n      <td>185</td>\n      <td>330</td>\n      <td>1</td>\n      <td>no</td>\n    </tr>\n    <tr>\n      <th>3</th>\n      <td>30</td>\n      <td>1476</td>\n      <td>3</td>\n      <td>4</td>\n      <td>199</td>\n      <td>-1</td>\n      <td>0</td>\n      <td>no</td>\n    </tr>\n    <tr>\n      <th>4</th>\n      <td>59</td>\n      <td>0</td>\n      <td>5</td>\n      <td>1</td>\n      <td>226</td>\n      <td>-1</td>\n      <td>0</td>\n      <td>no</td>\n    </tr>\n  </tbody>\n</table>\n</div>"
     },
     "metadata": {},
     "output_type": "execute_result",
     "execution_count": 7
    }
   ],
   "source": [
    "numerical_data = inputs[numeric_columns]\n",
    "numerical_data = numerical_data.join(labels)\n",
    "numerical_data.head()"
   ]
  },
  {
   "cell_type": "code",
   "execution_count": 8,
   "metadata": {
    "ExecuteTime": {
     "end_time": "2020-02-16T18:23:45.006191Z",
     "start_time": "2020-02-16T18:23:44.989241Z"
    },
    "pycharm": {
     "is_executing": false
    }
   },
   "outputs": [
    {
     "data": {
      "text/plain": "   education default month loan          job  marital   contact poutcome  \\\n0    primary      no   oct   no   unemployed  married  cellular  unknown   \n1  secondary      no   may  yes     services  married  cellular  failure   \n2   tertiary      no   apr   no   management   single  cellular  failure   \n3   tertiary      no   jun  yes   management  married   unknown  unknown   \n4  secondary      no   may   no  blue-collar  married   unknown  unknown   \n\n  housing   y  \n0      no  no  \n1     yes  no  \n2     yes  no  \n3     yes  no  \n4     yes  no  ",
      "text/html": "<div>\n<style scoped>\n    .dataframe tbody tr th:only-of-type {\n        vertical-align: middle;\n    }\n\n    .dataframe tbody tr th {\n        vertical-align: top;\n    }\n\n    .dataframe thead th {\n        text-align: right;\n    }\n</style>\n<table border=\"1\" class=\"dataframe\">\n  <thead>\n    <tr style=\"text-align: right;\">\n      <th></th>\n      <th>education</th>\n      <th>default</th>\n      <th>month</th>\n      <th>loan</th>\n      <th>job</th>\n      <th>marital</th>\n      <th>contact</th>\n      <th>poutcome</th>\n      <th>housing</th>\n      <th>y</th>\n    </tr>\n  </thead>\n  <tbody>\n    <tr>\n      <th>0</th>\n      <td>primary</td>\n      <td>no</td>\n      <td>oct</td>\n      <td>no</td>\n      <td>unemployed</td>\n      <td>married</td>\n      <td>cellular</td>\n      <td>unknown</td>\n      <td>no</td>\n      <td>no</td>\n    </tr>\n    <tr>\n      <th>1</th>\n      <td>secondary</td>\n      <td>no</td>\n      <td>may</td>\n      <td>yes</td>\n      <td>services</td>\n      <td>married</td>\n      <td>cellular</td>\n      <td>failure</td>\n      <td>yes</td>\n      <td>no</td>\n    </tr>\n    <tr>\n      <th>2</th>\n      <td>tertiary</td>\n      <td>no</td>\n      <td>apr</td>\n      <td>no</td>\n      <td>management</td>\n      <td>single</td>\n      <td>cellular</td>\n      <td>failure</td>\n      <td>yes</td>\n      <td>no</td>\n    </tr>\n    <tr>\n      <th>3</th>\n      <td>tertiary</td>\n      <td>no</td>\n      <td>jun</td>\n      <td>yes</td>\n      <td>management</td>\n      <td>married</td>\n      <td>unknown</td>\n      <td>unknown</td>\n      <td>yes</td>\n      <td>no</td>\n    </tr>\n    <tr>\n      <th>4</th>\n      <td>secondary</td>\n      <td>no</td>\n      <td>may</td>\n      <td>no</td>\n      <td>blue-collar</td>\n      <td>married</td>\n      <td>unknown</td>\n      <td>unknown</td>\n      <td>yes</td>\n      <td>no</td>\n    </tr>\n  </tbody>\n</table>\n</div>"
     },
     "metadata": {},
     "output_type": "execute_result",
     "execution_count": 8
    }
   ],
   "source": [
    "categorical_data = inputs[categorical_columns]\n",
    "categorical_data = categorical_data.join(labels)\n",
    "categorical_data.head()"
   ]
  },
  {
   "cell_type": "markdown",
   "metadata": {},
   "source": [
    "# Visualization functions"
   ]
  },
  {
   "cell_type": "code",
   "execution_count": 9,
   "metadata": {
    "ExecuteTime": {
     "end_time": "2020-02-16T18:23:47.442749Z",
     "start_time": "2020-02-16T18:23:47.438757Z"
    },
    "pycharm": {
     "is_executing": false
    }
   },
   "outputs": [],
   "source": [
    "FONTSIZE = 20\n",
    "TARGET_COLUMN = \"y\""
   ]
  },
  {
   "cell_type": "markdown",
   "metadata": {},
   "source": [
    "## for numerical data:"
   ]
  },
  {
   "cell_type": "code",
   "execution_count": 10,
   "metadata": {
    "ExecuteTime": {
     "end_time": "2020-02-16T18:23:48.090241Z",
     "start_time": "2020-02-16T18:23:48.082218Z"
    },
    "code_folding": [
     0
    ],
    "pycharm": {
     "is_executing": false
    }
   },
   "outputs": [],
   "source": [
    "# numerical data visualization with seaborn\n",
    "\n",
    "def plot_distribution_of_numerical_data(column_data, histogram=True, kde=True, rug=False, nbins=None):\n",
    "    xlabel = column_data.name\n",
    "    plt.figure(figsize=(16,8))\n",
    "    plt.xlabel(xlabel, fontsize=FONTSIZE)\n",
    "    plt.ylabel('Probability Density', fontsize=FONTSIZE) \n",
    "    if nbins is not None:\n",
    "        sns.distplot(column_data, hist=histogram, kde=kde, rug=rug, bins=bins);\n",
    "    else:       \n",
    "        sns.distplot(column_data, kde=kde, rug=rug);\n",
    "        \n",
    "    plt.show()\n",
    "    \n",
    "def plot_distribution_of_numerical_data_with_target(data_frame, column_name, xlabel=\"\", histogram=True, kde=True, rug=False, nbins=None):\n",
    "    class1_value = \"no\"\n",
    "    class2_value = \"yes\"\n",
    "    target = 'y'\n",
    "    fontsize = 20\n",
    "    \n",
    "    class1 = data_frame.loc[data_frame[target] == class1_value][column_name]\n",
    "    class2 = data_frame.loc[data_frame[target] == class2_value][column_name]\n",
    "    \n",
    "    plt.figure(figsize=(16,8))\n",
    "    sns.distplot(class1, kde=kde, hist=histogram, rug=rug, label=class1_value)\n",
    "    sns.distplot(class2, kde=kde, hist=histogram, rug=rug, label=class2_value)\n",
    "    \n",
    "    plt.xlabel(xlabel, fontsize=FONTSIZE) \n",
    "    plt.legend()\n",
    "    plt.ylabel('Probability Density', fontsize=FONTSIZE) \n",
    "    plt.show()"
   ]
  },
  {
   "cell_type": "markdown",
   "metadata": {},
   "source": [
    "## for categorical data:"
   ]
  },
  {
   "cell_type": "code",
   "execution_count": 11,
   "metadata": {
    "ExecuteTime": {
     "end_time": "2020-02-16T18:23:49.300805Z",
     "start_time": "2020-02-16T18:23:49.286841Z"
    },
    "code_folding": [
     0
    ],
    "pycharm": {
     "is_executing": false
    }
   },
   "outputs": [],
   "source": [
    "# categorical data visualization with seaborn\n",
    "\n",
    "def plot_categorical_histogram(column_name, data_frame,  xlabel=\"\", ylabel=\"Frequency\", title=\"\"):\n",
    "    att_count = data_frame[column_name].value_counts()\n",
    "    plt.figure(figsize=(16,8))\n",
    "    sns.set(style=\"darkgrid\")\n",
    "    sns.barplot(att_count.index, att_count.values, alpha=0.9)\n",
    "    plt.title(title)\n",
    "    plt.ylabel(ylabel)\n",
    "    plt.xlabel(xlabel)\n",
    "    plt.show()\n",
    "\n",
    "\"\"\"\n",
    "def plot_categorical_histogram_with_target1(column_name, data_frame,  xlabel=\"\", ylabel=\"Frequency\", title=\"\"):\n",
    "    #coloring not setup, labels too crunched\n",
    "    att_count = data_frame[[column_name, 'y']].groupby(['y', column_name]).size()\n",
    "    #att_count = data_frame[column_name].value_counts()\n",
    "    plt.figure(figsize=(16,8))\n",
    "    sns.set(style=\"darkgrid\")\n",
    "    sns.barplot(att_count.index, att_count.values,alpha=0.9)\n",
    "    plt.title(title)\n",
    "    plt.ylabel(ylabel)\n",
    "    plt.xlabel(xlabel)\n",
    "    plt.show()\n",
    "\"\"\"    \n",
    "    \n",
    "def autolabel(rects, ax):\n",
    "    \"\"\"Attach a text label above each bar in *rects*, displaying its height.\"\"\"\n",
    "    for rect in rects:\n",
    "        height = rect.get_height()\n",
    "        ax.annotate('{}'.format(height),\n",
    "                    xy=(rect.get_x() + rect.get_width() / 2, height),\n",
    "                    xytext=(0, 3),  # 3 points vertical offset\n",
    "                    textcoords=\"offset points\",\n",
    "                    ha='center', va='bottom')\n",
    "        \n",
    "def plot_categorical_histogram_with_target(column_name, data_frame, ylabel=\"Frequency\", title=\"\", normalize=True):\n",
    "    class1_name = \"no\"\n",
    "    class2_name = \"yes\"\n",
    "    target = 'y'\n",
    "    class1_count = 0\n",
    "    class2_count = 0\n",
    "    \n",
    "    att_count = data_frame[[column_name, target]].groupby([target, column_name]).size()\n",
    "    \n",
    "    class1 = att_count[class1_name]\n",
    "    class2 = att_count[class2_name]\n",
    "    for value1, value2 in zip(class1,class2):\n",
    "        class1_count += value1\n",
    "        class2_count += value2\n",
    "        \n",
    "    fig, ax = plt.subplots(figsize=(16,8))\n",
    "    ax.set_ylabel('Frequency')\n",
    "    if normalize:\n",
    "        class1 = [int(val/class1_count * 100) for val in class1]\n",
    "        class2 = [int(val/class2_count * 100) for val in class2]\n",
    "        ax.set_ylabel('Frequency (normalized)')\n",
    "        \n",
    "    columns = data_frame[column_name].unique()\n",
    "\n",
    "    x = np.arange(len(columns))  # the label locations\n",
    "    width = 0.35  # the width of the bars\n",
    "\n",
    "    rects1 = ax.bar(x - width/2, class1, width, label=class1_name)\n",
    "    rects2 = ax.bar(x + width/2, class2, width, label=class2_name)\n",
    "\n",
    "    ax.set_xticks(x)\n",
    "    ax.set_xticklabels(columns)\n",
    "    ax.legend()\n",
    "    \n",
    "    autolabel(rects1, ax)\n",
    "    autolabel(rects2, ax)\n",
    "    ax.title.set_text(title)\n",
    "    fig.tight_layout()\n",
    "\n",
    "    plt.show()"
   ]
  },
  {
   "cell_type": "markdown",
   "source": [
    "## correlation:"
   ],
   "metadata": {
    "collapsed": false
   }
  },
  {
   "cell_type": "code",
   "execution_count": 12,
   "outputs": [],
   "source": [
    "# correlation visialization\n",
    "def plot_correlation(data_frame):\n",
    "    \"\"\"\n",
    "    This is basic implementation that works with numerical data only.\n",
    "    \"\"\"\n",
    "    sns.set(style=\"white\")\n",
    "    \n",
    "    # Compute the correlation matrix\n",
    "    corr = data_frame.corr()\n",
    "\n",
    "    # Generate a mask for the upper triangle\n",
    "    mask = np.triu(np.ones_like(corr, dtype=np.bool))\n",
    "\n",
    "    # Set up the matplotlib figure\n",
    "    f, ax = plt.subplots(figsize=(16, 8))\n",
    "\n",
    "    # Generate a custom diverging colormap\n",
    "    cmap = sns.diverging_palette(220, 10, as_cmap=True)\n",
    "\n",
    "    # Draw the heatmap with the mask and correct aspect ratio\n",
    "    sns.heatmap(corr, mask=mask, cmap=cmap, vmax=.3, center=0,\n",
    "                square=True, linewidths=.5, cbar_kws={\"shrink\": .5})\n",
    "    plt.show()\n",
    "    \n",
    "def plot_correlation_for_categorical_data(data_frame, theilu=True, ):\n",
    "    \"\"\"\n",
    "    This function uses the code from: https://github.com/shakedzy/dython\n",
    "    To use this part run: pip install dython\n",
    "    This function can also be used to plot correlation of continuios or mixed\n",
    "    cases.\n",
    "    \"\"\"\n",
    "    try:\n",
    "        from dython import nominal\n",
    "    except ImportError as e:\n",
    "        raise ModuleNotFoundError(\"dython module not found\")\n",
    "    \n",
    "    theilu = nominal.associations(dataset=data_frame, theil_u=True)"
   ],
   "metadata": {
    "collapsed": false,
    "pycharm": {
     "name": "#%%\n",
     "is_executing": false
    }
   }
  },
  {
   "cell_type": "code",
   "execution_count": 13,
   "outputs": [
    {
     "traceback": [
      "\u001b[1;31m---------------------------------------------------------------------------\u001b[0m",
      "\u001b[1;31mModuleNotFoundError\u001b[0m                       Traceback (most recent call last)",
      "\u001b[1;32m<ipython-input-12-118d8aedf542>\u001b[0m in \u001b[0;36mplot_correlation_for_categorical_data\u001b[1;34m(data_frame, theilu)\u001b[0m\n\u001b[0;32m     32\u001b[0m     \u001b[1;32mtry\u001b[0m\u001b[1;33m:\u001b[0m\u001b[1;33m\u001b[0m\u001b[1;33m\u001b[0m\u001b[0m\n\u001b[1;32m---> 33\u001b[1;33m         \u001b[1;32mfrom\u001b[0m \u001b[0mdython\u001b[0m \u001b[1;32mimport\u001b[0m \u001b[0mnominal\u001b[0m\u001b[1;33m\u001b[0m\u001b[1;33m\u001b[0m\u001b[0m\n\u001b[0m\u001b[0;32m     34\u001b[0m     \u001b[1;32mexcept\u001b[0m \u001b[0mImportError\u001b[0m \u001b[1;32mas\u001b[0m \u001b[0me\u001b[0m\u001b[1;33m:\u001b[0m\u001b[1;33m\u001b[0m\u001b[1;33m\u001b[0m\u001b[0m\n",
      "\u001b[1;31mModuleNotFoundError\u001b[0m: No module named 'dython'",
      "\nDuring handling of the above exception, another exception occurred:\n",
      "\u001b[1;31mModuleNotFoundError\u001b[0m                       Traceback (most recent call last)",
      "\u001b[1;32m<ipython-input-13-8ecd68fe5d78>\u001b[0m in \u001b[0;36m<module>\u001b[1;34m\u001b[0m\n\u001b[0;32m      1\u001b[0m \u001b[0mfull_data\u001b[0m \u001b[1;33m=\u001b[0m \u001b[0minputs\u001b[0m\u001b[1;33m.\u001b[0m\u001b[0mjoin\u001b[0m\u001b[1;33m(\u001b[0m\u001b[0mlabels\u001b[0m\u001b[1;33m)\u001b[0m\u001b[1;33m\u001b[0m\u001b[1;33m\u001b[0m\u001b[0m\n\u001b[1;32m----> 2\u001b[1;33m \u001b[0mplot_correlation_for_categorical_data\u001b[0m\u001b[1;33m(\u001b[0m\u001b[0mfull_data\u001b[0m\u001b[1;33m)\u001b[0m\u001b[1;33m\u001b[0m\u001b[1;33m\u001b[0m\u001b[0m\n\u001b[0m\u001b[0;32m      3\u001b[0m \u001b[1;33m\u001b[0m\u001b[0m\n",
      "\u001b[1;32m<ipython-input-12-118d8aedf542>\u001b[0m in \u001b[0;36mplot_correlation_for_categorical_data\u001b[1;34m(data_frame, theilu)\u001b[0m\n\u001b[0;32m     33\u001b[0m         \u001b[1;32mfrom\u001b[0m \u001b[0mdython\u001b[0m \u001b[1;32mimport\u001b[0m \u001b[0mnominal\u001b[0m\u001b[1;33m\u001b[0m\u001b[1;33m\u001b[0m\u001b[0m\n\u001b[0;32m     34\u001b[0m     \u001b[1;32mexcept\u001b[0m \u001b[0mImportError\u001b[0m \u001b[1;32mas\u001b[0m \u001b[0me\u001b[0m\u001b[1;33m:\u001b[0m\u001b[1;33m\u001b[0m\u001b[1;33m\u001b[0m\u001b[0m\n\u001b[1;32m---> 35\u001b[1;33m         \u001b[1;32mraise\u001b[0m \u001b[0mModuleNotFoundError\u001b[0m\u001b[1;33m(\u001b[0m\u001b[1;34m\"dython module not found\"\u001b[0m\u001b[1;33m)\u001b[0m\u001b[1;33m\u001b[0m\u001b[1;33m\u001b[0m\u001b[0m\n\u001b[0m\u001b[0;32m     36\u001b[0m \u001b[1;33m\u001b[0m\u001b[0m\n\u001b[0;32m     37\u001b[0m     \u001b[0mtheilu\u001b[0m \u001b[1;33m=\u001b[0m \u001b[0mnominal\u001b[0m\u001b[1;33m.\u001b[0m\u001b[0massociations\u001b[0m\u001b[1;33m(\u001b[0m\u001b[0mdataset\u001b[0m\u001b[1;33m=\u001b[0m\u001b[0mdata_frame\u001b[0m\u001b[1;33m,\u001b[0m \u001b[0mtheil_u\u001b[0m\u001b[1;33m=\u001b[0m\u001b[1;32mTrue\u001b[0m\u001b[1;33m)\u001b[0m\u001b[1;33m\u001b[0m\u001b[1;33m\u001b[0m\u001b[0m\n",
      "\u001b[1;31mModuleNotFoundError\u001b[0m: dython module not found"
     ],
     "ename": "ModuleNotFoundError",
     "evalue": "dython module not found",
     "output_type": "error"
    }
   ],
   "source": [
    "full_data = inputs.join(labels)\n",
    "plot_correlation_for_categorical_data(full_data)"
   ],
   "metadata": {
    "collapsed": false,
    "pycharm": {
     "name": "#%%\n",
     "is_executing": false
    }
   }
  },
  {
   "cell_type": "code",
   "execution_count": null,
   "outputs": [],
   "source": [
    "plot_correlation_for_categorical_data(categorical_data)"
   ],
   "metadata": {
    "collapsed": false,
    "pycharm": {
     "name": "#%%\n",
     "is_executing": false
    }
   }
  },
  {
   "cell_type": "code",
   "execution_count": null,
   "outputs": [],
   "source": [
    "plot_correlation_for_categorical_data(numerical_data)"
   ],
   "metadata": {
    "collapsed": false,
    "pycharm": {
     "name": "#%%\n",
     "is_executing": false
    }
   }
  },
  {
   "cell_type": "code",
   "execution_count": null,
   "outputs": [],
   "source": [
    "plot_correlation(numerical_data)"
   ],
   "metadata": {
    "collapsed": false,
    "pycharm": {
     "name": "#%%\n",
     "is_executing": false
    }
   }
  },
  {
   "cell_type": "markdown",
   "metadata": {},
   "source": [
    "# Ploting data distribution"
   ]
  },
  {
   "cell_type": "code",
   "execution_count": null,
   "metadata": {
    "ExecuteTime": {
     "end_time": "2020-02-16T18:43:18.845477Z",
     "start_time": "2020-02-16T18:43:18.838496Z"
    },
    "code_folding": [
     0
    ],
    "pycharm": {
     "is_executing": false
    }
   },
   "outputs": [],
   "source": [
    "# correlation visialization\n",
    "def plot_correlation(data_frame):\n",
    "    \"\"\"\n",
    "    This is basic implementation that works with numerical data only.\n",
    "    \"\"\"\n",
    "    sns.set(style=\"white\")\n",
    "    \n",
    "    # Compute the correlation matrix\n",
    "    corr = data_frame.corr()\n",
    "\n",
    "    # Generate a mask for the upper triangle\n",
    "    mask = np.triu(np.ones_like(corr, dtype=np.bool))\n",
    "\n",
    "    # Set up the matplotlib figure\n",
    "    f, ax = plt.subplots(figsize=(16, 8))\n",
    "\n",
    "    # Generate a custom diverging colormap\n",
    "    cmap = sns.diverging_palette(220, 10, as_cmap=True)\n",
    "\n",
    "    # Draw the heatmap with the mask and correct aspect ratio\n",
    "    sns.heatmap(corr, mask=mask, cmap=cmap, vmax=.3, center=0,\n",
    "                square=True, linewidths=.5, cbar_kws={\"shrink\": .5})\n",
    "    plt.show()\n",
    "    \n",
    "def plot_correlation_for_categorical_data(data_frame, theilu=True, ):\n",
    "    \"\"\"\n",
    "    This function uses the code from: https://github.com/shakedzy/dython\n",
    "    To use this part run: pip install dython\n",
    "    This function can also be used to plot correlation of continuios or mixed\n",
    "    cases.\n",
    "    \"\"\"\n",
    "    try:\n",
    "        from dython import nominal\n",
    "    except ImportError as e:\n",
    "        raise ModuleNotFoundError(\"dython module not found\")\n",
    "    \n",
    "    theilu = nominal.associations(dataset=data_frame, theil_u=True)"
   ]
  },
  {
   "cell_type": "code",
   "execution_count": null,
   "metadata": {
    "ExecuteTime": {
     "end_time": "2020-02-16T18:46:59.116035Z",
     "start_time": "2020-02-16T18:46:57.545290Z"
    },
    "pycharm": {
     "is_executing": false
    }
   },
   "outputs": [],
   "source": [
    "full_data = inputs.join(labels)\n",
    "plot_correlation_for_categorical_data(full_data)"
   ]
  },
  {
   "cell_type": "code",
   "execution_count": null,
   "metadata": {
    "ExecuteTime": {
     "end_time": "2020-02-16T18:43:20.063813Z",
     "start_time": "2020-02-16T18:43:19.306679Z"
    },
    "scrolled": true,
    "pycharm": {
     "is_executing": false
    }
   },
   "outputs": [],
   "source": [
    "plot_correlation_for_categorical_data(categorical_data)"
   ]
  },
  {
   "cell_type": "code",
   "execution_count": null,
   "metadata": {
    "ExecuteTime": {
     "end_time": "2020-02-16T18:44:21.179711Z",
     "start_time": "2020-02-16T18:44:20.754422Z"
    },
    "scrolled": true,
    "pycharm": {
     "is_executing": false
    }
   },
   "outputs": [],
   "source": [
    "plot_correlation_for_categorical_data(numerical_data)"
   ]
  },
  {
   "cell_type": "code",
   "execution_count": null,
   "metadata": {
    "ExecuteTime": {
     "end_time": "2020-02-16T18:40:51.692179Z",
     "start_time": "2020-02-16T18:40:51.453820Z"
    },
    "scrolled": true,
    "pycharm": {
     "is_executing": false
    }
   },
   "outputs": [],
   "source": [
    "plot_correlation(numerical_data)"
   ]
  },
  {
   "cell_type": "markdown",
   "metadata": {},
   "source": [
    "# Ploting data distribution"
   ]
  },
  {
   "cell_type": "markdown",
   "metadata": {},
   "source": [
    "## for numerical data:"
   ]
  },
  {
   "cell_type": "code",
   "execution_count": null,
   "metadata": {
    "ExecuteTime": {
     "end_time": "2020-02-16T18:49:42.056542Z",
     "start_time": "2020-02-16T18:49:39.902766Z"
    },
    "scrolled": true,
    "pycharm": {
     "is_executing": false
    }
   },
   "outputs": [],
   "source": [
    "for column in numerical_data:\n",
    "    if column != TARGET_COLUMN:\n",
    "        plot_distribution_of_numerical_data(numerical_data[column])"
   ]
  },
  {
   "cell_type": "code",
   "execution_count": null,
   "metadata": {
    "ExecuteTime": {
     "end_time": "2020-02-16T18:49:44.891964Z",
     "start_time": "2020-02-16T18:49:42.058538Z"
    },
    "scrolled": true,
    "pycharm": {
     "is_executing": false
    }
   },
   "outputs": [],
   "source": [
    "for column in numerical_data:\n",
    "    if column != TARGET_COLUMN:\n",
    "        plot_distribution_of_numerical_data_with_target(numerical_data, column_name=column, \n",
    "                                                    xlabel=column)"
   ]
  },
  {
   "cell_type": "markdown",
   "metadata": {},
   "source": [
    "## for categorical data:"
   ]
  },
  {
   "cell_type": "code",
   "execution_count": null,
   "metadata": {
    "ExecuteTime": {
     "end_time": "2020-02-16T18:49:46.471961Z",
     "start_time": "2020-02-16T18:49:44.893959Z"
    },
    "scrolled": true,
    "pycharm": {
     "is_executing": false
    }
   },
   "outputs": [],
   "source": [
    "for column in categorical_columns:\n",
    "    plot_categorical_histogram(column_name=column, title=column, data_frame=categorical_data)"
   ]
  },
  {
   "cell_type": "code",
   "execution_count": null,
   "metadata": {
    "ExecuteTime": {
     "end_time": "2020-02-16T18:49:48.661078Z",
     "start_time": "2020-02-16T18:49:46.472924Z"
    },
    "scrolled": true,
    "pycharm": {
     "is_executing": false
    }
   },
   "outputs": [],
   "source": [
    "for column in categorical_columns:\n",
    "    plot_categorical_histogram_with_target(column_name=column, title=column, data_frame=categorical_data, normalize=True)"
   ]
  },
  {
   "cell_type": "code",
   "execution_count": null,
   "metadata": {
    "pycharm": {
     "is_executing": false
    }
   },
   "outputs": [],
   "source": []
  }
 ],
 "metadata": {
  "kernelspec": {
   "display_name": "Python 3",
   "language": "python",
   "name": "python3"
  },
  "language_info": {
   "codemirror_mode": {
    "name": "ipython",
    "version": 3
   },
   "file_extension": ".py",
   "mimetype": "text/x-python",
   "name": "python",
   "nbconvert_exporter": "python",
   "pygments_lexer": "ipython3",
   "version": "3.7.6"
  },
  "toc": {
   "base_numbering": 1,
   "nav_menu": {},
   "number_sections": true,
   "sideBar": true,
   "skip_h1_title": false,
   "title_cell": "Table of Contents",
   "title_sidebar": "Contents",
   "toc_cell": false,
   "toc_position": {},
   "toc_section_display": true,
   "toc_window_display": false
  },
  "pycharm": {
   "stem_cell": {
    "cell_type": "raw",
    "source": [],
    "metadata": {
     "collapsed": false
    }
   }
  }
 },
 "nbformat": 4,
 "nbformat_minor": 2
}