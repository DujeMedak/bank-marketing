{
 "cells": [
  {
   "cell_type": "code",
   "execution_count": 1,
   "metadata": {
    "ExecuteTime": {
     "end_time": "2020-03-29T13:30:55.973131Z",
     "start_time": "2020-03-29T13:30:53.662317Z"
    },
    "code_folding": [
     0
    ]
   },
   "outputs": [],
   "source": [
    "#imports\n",
    "from utils.data import  DataLoader\n",
    "import pandas as pd\n",
    "import matplotlib.pyplot as plt\n",
    "%matplotlib inline\n",
    "import seaborn as sns\n",
    "import numpy as np"
   ]
  },
  {
   "cell_type": "code",
   "execution_count": 2,
   "metadata": {
    "ExecuteTime": {
     "end_time": "2020-03-29T13:30:55.981789Z",
     "start_time": "2020-03-29T13:30:55.974808Z"
    },
    "code_folding": [
     0
    ]
   },
   "outputs": [
    {
     "data": {
      "text/plain": [
       "'\\ndl = DataLoader(\"./config.json\")\\ndl.load_csv_data(filename=\\'bank-additional-full.csv\\', \\n                 test_filename=\\'bank-additional.csv\\')\\ntrain_data = dl.get_data(include_target_column = True)\\ntest_data = dl.get_test_data(include_target_column = True)\\n\\ntrain_data.to_csv(\"./data/train.csv\", sep=\\';\\',index=False)\\ntest_data.to_csv(\"./data/test.csv\", sep=\\';\\',index=False)\\n'"
      ]
     },
     "execution_count": 2,
     "metadata": {},
     "output_type": "execute_result"
    }
   ],
   "source": [
    "# this needs to be run once to create train and test csv-s\n",
    "\"\"\"\n",
    "dl = DataLoader(\"./config.json\")\n",
    "dl.load_csv_data(filename='bank-additional-full.csv', \n",
    "                 test_filename='bank-additional.csv')\n",
    "train_data = dl.get_data(include_target_column = True)\n",
    "test_data = dl.get_test_data(include_target_column = True)\n",
    "\n",
    "train_data.to_csv(\"./data/train.csv\", sep=';',index=False)\n",
    "test_data.to_csv(\"./data/test.csv\", sep=';',index=False)\n",
    "\"\"\""
   ]
  },
  {
   "cell_type": "code",
   "execution_count": 3,
   "metadata": {
    "ExecuteTime": {
     "end_time": "2020-03-29T13:30:58.070303Z",
     "start_time": "2020-03-29T13:30:55.983782Z"
    }
   },
   "outputs": [
    {
     "name": "stdout",
     "output_type": "stream",
     "text": [
      "loading test data from: C:\\Users\\dujem\\PycharmProjects\\bank-marketing\\data\\test.csv\n",
      "loading data from: C:\\Users\\dujem\\PycharmProjects\\bank-marketing\\data\\train.csv\n",
      "memory occupation before data type conversion: 27.52 MB\n",
      "memory occupation after data type conversion: 26.1 MB\n",
      "memory occupation before data type conversion: 3.03 MB\n",
      "memory occupation after data type conversion: 2.87 MB\n"
     ]
    },
    {
     "data": {
      "text/html": [
       "<div>\n",
       "<style scoped>\n",
       "    .dataframe tbody tr th:only-of-type {\n",
       "        vertical-align: middle;\n",
       "    }\n",
       "\n",
       "    .dataframe tbody tr th {\n",
       "        vertical-align: top;\n",
       "    }\n",
       "\n",
       "    .dataframe thead th {\n",
       "        text-align: right;\n",
       "    }\n",
       "</style>\n",
       "<table border=\"1\" class=\"dataframe\">\n",
       "  <thead>\n",
       "    <tr style=\"text-align: right;\">\n",
       "      <th></th>\n",
       "      <th>age</th>\n",
       "      <th>job</th>\n",
       "      <th>marital</th>\n",
       "      <th>education</th>\n",
       "      <th>default</th>\n",
       "      <th>housing</th>\n",
       "      <th>loan</th>\n",
       "      <th>contact</th>\n",
       "      <th>month</th>\n",
       "      <th>day_of_week</th>\n",
       "      <th>...</th>\n",
       "      <th>campaign</th>\n",
       "      <th>pdays</th>\n",
       "      <th>previous</th>\n",
       "      <th>poutcome</th>\n",
       "      <th>emp.var.rate</th>\n",
       "      <th>cons.price.idx</th>\n",
       "      <th>cons.conf.idx</th>\n",
       "      <th>euribor3m</th>\n",
       "      <th>nr.employed</th>\n",
       "      <th>y</th>\n",
       "    </tr>\n",
       "  </thead>\n",
       "  <tbody>\n",
       "    <tr>\n",
       "      <th>0</th>\n",
       "      <td>56</td>\n",
       "      <td>housemaid</td>\n",
       "      <td>married</td>\n",
       "      <td>basic.4y</td>\n",
       "      <td>no</td>\n",
       "      <td>no</td>\n",
       "      <td>no</td>\n",
       "      <td>telephone</td>\n",
       "      <td>may</td>\n",
       "      <td>mon</td>\n",
       "      <td>...</td>\n",
       "      <td>1</td>\n",
       "      <td>999</td>\n",
       "      <td>0</td>\n",
       "      <td>nonexistent</td>\n",
       "      <td>1.1</td>\n",
       "      <td>93.994003</td>\n",
       "      <td>-36.400002</td>\n",
       "      <td>4.857</td>\n",
       "      <td>5191.000000</td>\n",
       "      <td>no</td>\n",
       "    </tr>\n",
       "    <tr>\n",
       "      <th>1</th>\n",
       "      <td>57</td>\n",
       "      <td>services</td>\n",
       "      <td>married</td>\n",
       "      <td>high.school</td>\n",
       "      <td>unknown</td>\n",
       "      <td>no</td>\n",
       "      <td>no</td>\n",
       "      <td>telephone</td>\n",
       "      <td>may</td>\n",
       "      <td>mon</td>\n",
       "      <td>...</td>\n",
       "      <td>1</td>\n",
       "      <td>999</td>\n",
       "      <td>0</td>\n",
       "      <td>nonexistent</td>\n",
       "      <td>1.1</td>\n",
       "      <td>93.994003</td>\n",
       "      <td>-36.400002</td>\n",
       "      <td>4.857</td>\n",
       "      <td>5191.000000</td>\n",
       "      <td>no</td>\n",
       "    </tr>\n",
       "    <tr>\n",
       "      <th>2</th>\n",
       "      <td>37</td>\n",
       "      <td>services</td>\n",
       "      <td>married</td>\n",
       "      <td>high.school</td>\n",
       "      <td>no</td>\n",
       "      <td>yes</td>\n",
       "      <td>no</td>\n",
       "      <td>telephone</td>\n",
       "      <td>may</td>\n",
       "      <td>mon</td>\n",
       "      <td>...</td>\n",
       "      <td>1</td>\n",
       "      <td>999</td>\n",
       "      <td>0</td>\n",
       "      <td>nonexistent</td>\n",
       "      <td>1.1</td>\n",
       "      <td>93.994003</td>\n",
       "      <td>-36.400002</td>\n",
       "      <td>4.857</td>\n",
       "      <td>5191.000000</td>\n",
       "      <td>no</td>\n",
       "    </tr>\n",
       "    <tr>\n",
       "      <th>3</th>\n",
       "      <td>40</td>\n",
       "      <td>admin.</td>\n",
       "      <td>married</td>\n",
       "      <td>basic.6y</td>\n",
       "      <td>no</td>\n",
       "      <td>no</td>\n",
       "      <td>no</td>\n",
       "      <td>telephone</td>\n",
       "      <td>may</td>\n",
       "      <td>mon</td>\n",
       "      <td>...</td>\n",
       "      <td>1</td>\n",
       "      <td>999</td>\n",
       "      <td>0</td>\n",
       "      <td>nonexistent</td>\n",
       "      <td>1.1</td>\n",
       "      <td>93.994003</td>\n",
       "      <td>-36.400002</td>\n",
       "      <td>4.857</td>\n",
       "      <td>5191.000000</td>\n",
       "      <td>no</td>\n",
       "    </tr>\n",
       "    <tr>\n",
       "      <th>4</th>\n",
       "      <td>56</td>\n",
       "      <td>services</td>\n",
       "      <td>married</td>\n",
       "      <td>high.school</td>\n",
       "      <td>no</td>\n",
       "      <td>no</td>\n",
       "      <td>yes</td>\n",
       "      <td>telephone</td>\n",
       "      <td>may</td>\n",
       "      <td>mon</td>\n",
       "      <td>...</td>\n",
       "      <td>1</td>\n",
       "      <td>999</td>\n",
       "      <td>0</td>\n",
       "      <td>nonexistent</td>\n",
       "      <td>1.1</td>\n",
       "      <td>93.994003</td>\n",
       "      <td>-36.400002</td>\n",
       "      <td>4.857</td>\n",
       "      <td>5191.000000</td>\n",
       "      <td>no</td>\n",
       "    </tr>\n",
       "    <tr>\n",
       "      <th>...</th>\n",
       "      <td>...</td>\n",
       "      <td>...</td>\n",
       "      <td>...</td>\n",
       "      <td>...</td>\n",
       "      <td>...</td>\n",
       "      <td>...</td>\n",
       "      <td>...</td>\n",
       "      <td>...</td>\n",
       "      <td>...</td>\n",
       "      <td>...</td>\n",
       "      <td>...</td>\n",
       "      <td>...</td>\n",
       "      <td>...</td>\n",
       "      <td>...</td>\n",
       "      <td>...</td>\n",
       "      <td>...</td>\n",
       "      <td>...</td>\n",
       "      <td>...</td>\n",
       "      <td>...</td>\n",
       "      <td>...</td>\n",
       "      <td>...</td>\n",
       "    </tr>\n",
       "    <tr>\n",
       "      <th>37063</th>\n",
       "      <td>29</td>\n",
       "      <td>unemployed</td>\n",
       "      <td>single</td>\n",
       "      <td>basic.4y</td>\n",
       "      <td>no</td>\n",
       "      <td>yes</td>\n",
       "      <td>no</td>\n",
       "      <td>cellular</td>\n",
       "      <td>nov</td>\n",
       "      <td>fri</td>\n",
       "      <td>...</td>\n",
       "      <td>1</td>\n",
       "      <td>9</td>\n",
       "      <td>1</td>\n",
       "      <td>success</td>\n",
       "      <td>-1.1</td>\n",
       "      <td>94.766998</td>\n",
       "      <td>-50.799999</td>\n",
       "      <td>1.028</td>\n",
       "      <td>4963.600098</td>\n",
       "      <td>no</td>\n",
       "    </tr>\n",
       "    <tr>\n",
       "      <th>37064</th>\n",
       "      <td>73</td>\n",
       "      <td>retired</td>\n",
       "      <td>married</td>\n",
       "      <td>professional.course</td>\n",
       "      <td>no</td>\n",
       "      <td>yes</td>\n",
       "      <td>no</td>\n",
       "      <td>cellular</td>\n",
       "      <td>nov</td>\n",
       "      <td>fri</td>\n",
       "      <td>...</td>\n",
       "      <td>1</td>\n",
       "      <td>999</td>\n",
       "      <td>0</td>\n",
       "      <td>nonexistent</td>\n",
       "      <td>-1.1</td>\n",
       "      <td>94.766998</td>\n",
       "      <td>-50.799999</td>\n",
       "      <td>1.028</td>\n",
       "      <td>4963.600098</td>\n",
       "      <td>yes</td>\n",
       "    </tr>\n",
       "    <tr>\n",
       "      <th>37065</th>\n",
       "      <td>56</td>\n",
       "      <td>retired</td>\n",
       "      <td>married</td>\n",
       "      <td>university.degree</td>\n",
       "      <td>no</td>\n",
       "      <td>yes</td>\n",
       "      <td>no</td>\n",
       "      <td>cellular</td>\n",
       "      <td>nov</td>\n",
       "      <td>fri</td>\n",
       "      <td>...</td>\n",
       "      <td>2</td>\n",
       "      <td>999</td>\n",
       "      <td>0</td>\n",
       "      <td>nonexistent</td>\n",
       "      <td>-1.1</td>\n",
       "      <td>94.766998</td>\n",
       "      <td>-50.799999</td>\n",
       "      <td>1.028</td>\n",
       "      <td>4963.600098</td>\n",
       "      <td>no</td>\n",
       "    </tr>\n",
       "    <tr>\n",
       "      <th>37066</th>\n",
       "      <td>44</td>\n",
       "      <td>technician</td>\n",
       "      <td>married</td>\n",
       "      <td>professional.course</td>\n",
       "      <td>no</td>\n",
       "      <td>no</td>\n",
       "      <td>no</td>\n",
       "      <td>cellular</td>\n",
       "      <td>nov</td>\n",
       "      <td>fri</td>\n",
       "      <td>...</td>\n",
       "      <td>1</td>\n",
       "      <td>999</td>\n",
       "      <td>0</td>\n",
       "      <td>nonexistent</td>\n",
       "      <td>-1.1</td>\n",
       "      <td>94.766998</td>\n",
       "      <td>-50.799999</td>\n",
       "      <td>1.028</td>\n",
       "      <td>4963.600098</td>\n",
       "      <td>yes</td>\n",
       "    </tr>\n",
       "    <tr>\n",
       "      <th>37067</th>\n",
       "      <td>74</td>\n",
       "      <td>retired</td>\n",
       "      <td>married</td>\n",
       "      <td>professional.course</td>\n",
       "      <td>no</td>\n",
       "      <td>yes</td>\n",
       "      <td>no</td>\n",
       "      <td>cellular</td>\n",
       "      <td>nov</td>\n",
       "      <td>fri</td>\n",
       "      <td>...</td>\n",
       "      <td>3</td>\n",
       "      <td>999</td>\n",
       "      <td>1</td>\n",
       "      <td>failure</td>\n",
       "      <td>-1.1</td>\n",
       "      <td>94.766998</td>\n",
       "      <td>-50.799999</td>\n",
       "      <td>1.028</td>\n",
       "      <td>4963.600098</td>\n",
       "      <td>no</td>\n",
       "    </tr>\n",
       "  </tbody>\n",
       "</table>\n",
       "<p>37068 rows × 21 columns</p>\n",
       "</div>"
      ],
      "text/plain": [
       "       age         job  marital            education  default housing loan  \\\n",
       "0       56   housemaid  married             basic.4y       no      no   no   \n",
       "1       57    services  married          high.school  unknown      no   no   \n",
       "2       37    services  married          high.school       no     yes   no   \n",
       "3       40      admin.  married             basic.6y       no      no   no   \n",
       "4       56    services  married          high.school       no      no  yes   \n",
       "...    ...         ...      ...                  ...      ...     ...  ...   \n",
       "37063   29  unemployed   single             basic.4y       no     yes   no   \n",
       "37064   73     retired  married  professional.course       no     yes   no   \n",
       "37065   56     retired  married    university.degree       no     yes   no   \n",
       "37066   44  technician  married  professional.course       no      no   no   \n",
       "37067   74     retired  married  professional.course       no     yes   no   \n",
       "\n",
       "         contact month day_of_week  ...  campaign  pdays  previous  \\\n",
       "0      telephone   may         mon  ...         1    999         0   \n",
       "1      telephone   may         mon  ...         1    999         0   \n",
       "2      telephone   may         mon  ...         1    999         0   \n",
       "3      telephone   may         mon  ...         1    999         0   \n",
       "4      telephone   may         mon  ...         1    999         0   \n",
       "...          ...   ...         ...  ...       ...    ...       ...   \n",
       "37063   cellular   nov         fri  ...         1      9         1   \n",
       "37064   cellular   nov         fri  ...         1    999         0   \n",
       "37065   cellular   nov         fri  ...         2    999         0   \n",
       "37066   cellular   nov         fri  ...         1    999         0   \n",
       "37067   cellular   nov         fri  ...         3    999         1   \n",
       "\n",
       "          poutcome emp.var.rate  cons.price.idx  cons.conf.idx  euribor3m  \\\n",
       "0      nonexistent          1.1       93.994003     -36.400002      4.857   \n",
       "1      nonexistent          1.1       93.994003     -36.400002      4.857   \n",
       "2      nonexistent          1.1       93.994003     -36.400002      4.857   \n",
       "3      nonexistent          1.1       93.994003     -36.400002      4.857   \n",
       "4      nonexistent          1.1       93.994003     -36.400002      4.857   \n",
       "...            ...          ...             ...            ...        ...   \n",
       "37063      success         -1.1       94.766998     -50.799999      1.028   \n",
       "37064  nonexistent         -1.1       94.766998     -50.799999      1.028   \n",
       "37065  nonexistent         -1.1       94.766998     -50.799999      1.028   \n",
       "37066  nonexistent         -1.1       94.766998     -50.799999      1.028   \n",
       "37067      failure         -1.1       94.766998     -50.799999      1.028   \n",
       "\n",
       "       nr.employed    y  \n",
       "0      5191.000000   no  \n",
       "1      5191.000000   no  \n",
       "2      5191.000000   no  \n",
       "3      5191.000000   no  \n",
       "4      5191.000000   no  \n",
       "...            ...  ...  \n",
       "37063  4963.600098   no  \n",
       "37064  4963.600098  yes  \n",
       "37065  4963.600098   no  \n",
       "37066  4963.600098  yes  \n",
       "37067  4963.600098   no  \n",
       "\n",
       "[37068 rows x 21 columns]"
      ]
     },
     "execution_count": 3,
     "metadata": {},
     "output_type": "execute_result"
    }
   ],
   "source": [
    "dl = DataLoader(\"./config.json\")\n",
    "dl.load_csv_data(filename='train.csv', \n",
    "                 test_filename='test.csv')\n"
   ]
  },
  {
   "cell_type": "code",
   "execution_count": 4,
   "metadata": {
    "ExecuteTime": {
     "end_time": "2020-03-29T13:30:58.100231Z",
     "start_time": "2020-03-29T13:30:58.072298Z"
    },
    "scrolled": true
   },
   "outputs": [
    {
     "name": "stdout",
     "output_type": "stream",
     "text": [
      "<class 'pandas.core.frame.DataFrame'>\n",
      "Int64Index: 37068 entries, 0 to 37067\n",
      "Data columns (total 21 columns):\n",
      " #   Column          Non-Null Count  Dtype  \n",
      "---  ------          --------------  -----  \n",
      " 0   age             37068 non-null  int32  \n",
      " 1   job             37068 non-null  object \n",
      " 2   marital         37068 non-null  object \n",
      " 3   education       37068 non-null  object \n",
      " 4   default         37068 non-null  object \n",
      " 5   housing         37068 non-null  object \n",
      " 6   loan            37068 non-null  object \n",
      " 7   contact         37068 non-null  object \n",
      " 8   month           37068 non-null  object \n",
      " 9   day_of_week     37068 non-null  object \n",
      " 10  duration        37068 non-null  int32  \n",
      " 11  campaign        37068 non-null  int32  \n",
      " 12  pdays           37068 non-null  int32  \n",
      " 13  previous        37068 non-null  int32  \n",
      " 14  poutcome        37068 non-null  object \n",
      " 15  emp.var.rate    37068 non-null  float32\n",
      " 16  cons.price.idx  37068 non-null  float32\n",
      " 17  cons.conf.idx   37068 non-null  float32\n",
      " 18  euribor3m       37068 non-null  float32\n",
      " 19  nr.employed     37068 non-null  float32\n",
      " 20  y               37068 non-null  object \n",
      "dtypes: float32(5), int32(5), object(11)\n",
      "memory usage: 4.8+ MB\n"
     ]
    }
   ],
   "source": [
    "train_data = dl.get_data(include_target_column = True)\n",
    "train_data.info()"
   ]
  },
  {
   "cell_type": "code",
   "execution_count": 5,
   "metadata": {
    "ExecuteTime": {
     "end_time": "2020-03-29T13:30:58.118176Z",
     "start_time": "2020-03-29T13:30:58.102218Z"
    },
    "scrolled": true
   },
   "outputs": [
    {
     "name": "stdout",
     "output_type": "stream",
     "text": [
      "<class 'pandas.core.frame.DataFrame'>\n",
      "RangeIndex: 4119 entries, 0 to 4118\n",
      "Data columns (total 21 columns):\n",
      " #   Column          Non-Null Count  Dtype  \n",
      "---  ------          --------------  -----  \n",
      " 0   age             4119 non-null   int32  \n",
      " 1   job             4119 non-null   object \n",
      " 2   marital         4119 non-null   object \n",
      " 3   education       4119 non-null   object \n",
      " 4   default         4119 non-null   object \n",
      " 5   housing         4119 non-null   object \n",
      " 6   loan            4119 non-null   object \n",
      " 7   contact         4119 non-null   object \n",
      " 8   month           4119 non-null   object \n",
      " 9   day_of_week     4119 non-null   object \n",
      " 10  duration        4119 non-null   int32  \n",
      " 11  campaign        4119 non-null   int32  \n",
      " 12  pdays           4119 non-null   int32  \n",
      " 13  previous        4119 non-null   int32  \n",
      " 14  poutcome        4119 non-null   object \n",
      " 15  emp.var.rate    4119 non-null   float32\n",
      " 16  cons.price.idx  4119 non-null   float32\n",
      " 17  cons.conf.idx   4119 non-null   float32\n",
      " 18  euribor3m       4119 non-null   float32\n",
      " 19  nr.employed     4119 non-null   float32\n",
      " 20  y               4119 non-null   object \n",
      "dtypes: float32(5), int32(5), object(11)\n",
      "memory usage: 515.0+ KB\n"
     ]
    }
   ],
   "source": [
    "test_data = dl.get_test_data(include_target_column = True)\n",
    "test_data.info()"
   ]
  },
  {
   "cell_type": "markdown",
   "metadata": {},
   "source": [
    "# converting to one-hot\n",
    "\n",
    "## variables that need to be encoded:\n",
    "### numerical: None\n",
    "### categorical: marital, education, default, housing, loan, contact, poutcome\n",
    "month -> one hot ili samo label encode ?"
   ]
  },
  {
   "cell_type": "code",
   "execution_count": 6,
   "metadata": {
    "ExecuteTime": {
     "end_time": "2020-03-29T13:31:03.626133Z",
     "start_time": "2020-03-29T13:31:03.621153Z"
    }
   },
   "outputs": [],
   "source": [
    "def encode_features(nominal_data, ordinal_data, numerical_data, ordinal_map): \n",
    "    encoded_ordinal_columns = ordinal_data.applymap(lambda s: ordinal_map.get(s) if s in ordinal_map else s)\n",
    "    #encoded_ordinal_columns.head()\n",
    "    \n",
    "    # encode nominal categorical values\n",
    "    encoded_nominal_df=None\n",
    "    for column_name in nominal_data.columns:\n",
    "        oh_columns = pd.get_dummies(nominal_data[column_name], prefix=column_name)\n",
    "        if encoded_nominal_df is None:\n",
    "            encoded_nominal_df = oh_columns\n",
    "        else:\n",
    "            encoded_nominal_df = pd.concat([encoded_nominal_df, oh_columns], axis=1)\n",
    "\n",
    "    #encoded_nominal_df.head()\n",
    "    \n",
    "    pd.set_option('display.max_columns', None)\n",
    "    df = pd.concat([numerical_data, encoded_nominal_df, encoded_ordinal_columns], axis=1)\n",
    "    df.head()\n",
    "    return df"
   ]
  },
  {
   "cell_type": "code",
   "execution_count": 7,
   "metadata": {
    "ExecuteTime": {
     "end_time": "2020-03-29T13:31:09.289818Z",
     "start_time": "2020-03-29T13:31:09.284792Z"
    }
   },
   "outputs": [],
   "source": [
    "nominal_columns_names = ['job', 'marital', 'education', 'default', 'housing', 'loan', \n",
    "                         'contact', 'poutcome'] # <- the target label is also added\n",
    "\n",
    "ordinal_columns_names = ['month', 'day_of_week', 'y'] # add education also? How to encode moths?\n",
    "\n",
    "#ordinal_columns.month.unique()\n",
    "#ordinal_columns.day_of_week.unique()\n",
    "# encode ordinal categorical values (month)\n",
    "\n",
    "ordinal_map = {'jan':1, 'feb':2, 'mar':3, 'apr':4, 'may':5, 'jun':6, 'jul':7, 'aug':8, \n",
    "               'sep':9, 'oct':10, 'nov':11, 'dec':12,\n",
    "               'yes':1, 'no':0,\n",
    "               'mon':1, 'tue':2, 'wed':3, 'thu':4, 'fri':5}\n"
   ]
  },
  {
   "cell_type": "code",
   "execution_count": 8,
   "metadata": {
    "ExecuteTime": {
     "end_time": "2020-03-29T13:31:12.079850Z",
     "start_time": "2020-03-29T13:31:12.068875Z"
    }
   },
   "outputs": [
    {
     "name": "stdout",
     "output_type": "stream",
     "text": [
      "Returning training data\n"
     ]
    }
   ],
   "source": [
    "train_nominal_data = train_data[nominal_columns_names]\n",
    "train_ordinal_data = train_data[ordinal_columns_names]\n",
    "train_numerical_data = dl.get_numeric_data(include_target_column=False)"
   ]
  },
  {
   "cell_type": "code",
   "execution_count": 9,
   "metadata": {
    "ExecuteTime": {
     "end_time": "2020-03-29T13:31:14.044861Z",
     "start_time": "2020-03-29T13:31:14.036882Z"
    }
   },
   "outputs": [
    {
     "name": "stdout",
     "output_type": "stream",
     "text": [
      "Returning testing data\n"
     ]
    }
   ],
   "source": [
    "test_nominal_data = test_data[nominal_columns_names]\n",
    "test_ordinal_data = test_data[ordinal_columns_names]\n",
    "test_numerical_data = dl.get_numeric_data(include_target_column=False, test_data=True)"
   ]
  },
  {
   "cell_type": "code",
   "execution_count": 12,
   "metadata": {
    "ExecuteTime": {
     "end_time": "2020-03-29T13:34:26.640821Z",
     "start_time": "2020-03-29T13:34:26.500302Z"
    },
    "scrolled": true
   },
   "outputs": [
    {
     "name": "stdout",
     "output_type": "stream",
     "text": [
      "<class 'pandas.core.frame.DataFrame'>\n",
      "Int64Index: 37068 entries, 0 to 37067\n",
      "Data columns (total 51 columns):\n",
      " #   Column                         Non-Null Count  Dtype  \n",
      "---  ------                         --------------  -----  \n",
      " 0   age                            37068 non-null  int32  \n",
      " 1   campaign                       37068 non-null  int32  \n",
      " 2   duration                       37068 non-null  int32  \n",
      " 3   pdays                          37068 non-null  int32  \n",
      " 4   previous                       37068 non-null  int32  \n",
      " 5   emp.var.rate                   37068 non-null  float32\n",
      " 6   cons.price.idx                 37068 non-null  float32\n",
      " 7   cons.conf.idx                  37068 non-null  float32\n",
      " 8   euribor3m                      37068 non-null  float32\n",
      " 9   nr.employed                    37068 non-null  float32\n",
      " 10  job_admin.                     37068 non-null  uint8  \n",
      " 11  job_blue-collar                37068 non-null  uint8  \n",
      " 12  job_entrepreneur               37068 non-null  uint8  \n",
      " 13  job_housemaid                  37068 non-null  uint8  \n",
      " 14  job_management                 37068 non-null  uint8  \n",
      " 15  job_retired                    37068 non-null  uint8  \n",
      " 16  job_self-employed              37068 non-null  uint8  \n",
      " 17  job_services                   37068 non-null  uint8  \n",
      " 18  job_student                    37068 non-null  uint8  \n",
      " 19  job_technician                 37068 non-null  uint8  \n",
      " 20  job_unemployed                 37068 non-null  uint8  \n",
      " 21  job_unknown                    37068 non-null  uint8  \n",
      " 22  marital_divorced               37068 non-null  uint8  \n",
      " 23  marital_married                37068 non-null  uint8  \n",
      " 24  marital_single                 37068 non-null  uint8  \n",
      " 25  marital_unknown                37068 non-null  uint8  \n",
      " 26  education_basic.4y             37068 non-null  uint8  \n",
      " 27  education_basic.6y             37068 non-null  uint8  \n",
      " 28  education_basic.9y             37068 non-null  uint8  \n",
      " 29  education_high.school          37068 non-null  uint8  \n",
      " 30  education_illiterate           37068 non-null  uint8  \n",
      " 31  education_professional.course  37068 non-null  uint8  \n",
      " 32  education_university.degree    37068 non-null  uint8  \n",
      " 33  education_unknown              37068 non-null  uint8  \n",
      " 34  default_no                     37068 non-null  uint8  \n",
      " 35  default_unknown                37068 non-null  uint8  \n",
      " 36  default_yes                    37068 non-null  uint8  \n",
      " 37  housing_no                     37068 non-null  uint8  \n",
      " 38  housing_unknown                37068 non-null  uint8  \n",
      " 39  housing_yes                    37068 non-null  uint8  \n",
      " 40  loan_no                        37068 non-null  uint8  \n",
      " 41  loan_unknown                   37068 non-null  uint8  \n",
      " 42  loan_yes                       37068 non-null  uint8  \n",
      " 43  contact_cellular               37068 non-null  uint8  \n",
      " 44  contact_telephone              37068 non-null  uint8  \n",
      " 45  poutcome_failure               37068 non-null  uint8  \n",
      " 46  poutcome_nonexistent           37068 non-null  uint8  \n",
      " 47  poutcome_success               37068 non-null  uint8  \n",
      " 48  month                          37068 non-null  int64  \n",
      " 49  day_of_week                    37068 non-null  int64  \n",
      " 50  y                              37068 non-null  int64  \n",
      "dtypes: float32(5), int32(5), int64(3), uint8(38)\n",
      "memory usage: 3.9 MB\n"
     ]
    }
   ],
   "source": [
    "encoded_train_data = encode_features(train_nominal_data, train_ordinal_data, train_numerical_data, ordinal_map)\n",
    "cols_at_end = ['y']\n",
    "# sets y as the last column of the data frame\n",
    "encoded_train_data = encoded_train_data[[c for c in encoded_train_data if c not in cols_at_end] + [c for c in cols_at_end if c in encoded_train_data]]\n",
    "encoded_train_data.info()\n",
    "#encoded_train_data.to_csv(\"./data/encoded\\encoded_train_data_with_encoded_y.csv\", sep=';',index=False)"
   ]
  },
  {
   "cell_type": "markdown",
   "metadata": {},
   "source": [
    "# Save data now if you don 't want to reduce the number of features"
   ]
  },
  {
   "cell_type": "code",
   "execution_count": 16,
   "metadata": {
    "ExecuteTime": {
     "end_time": "2020-03-29T13:39:19.919436Z",
     "start_time": "2020-03-29T13:39:19.899450Z"
    },
    "collapsed": true
   },
   "outputs": [
    {
     "name": "stdout",
     "output_type": "stream",
     "text": [
      "25\n",
      "<class 'pandas.core.frame.DataFrame'>\n",
      "Int64Index: 37068 entries, 0 to 37067\n",
      "Data columns (total 25 columns):\n",
      " #   Column                         Non-Null Count  Dtype  \n",
      "---  ------                         --------------  -----  \n",
      " 0   nr.employed                    37068 non-null  float32\n",
      " 1   pdays                          37068 non-null  int32  \n",
      " 2   poutcome_success               37068 non-null  uint8  \n",
      " 3   euribor3m                      37068 non-null  float32\n",
      " 4   cons.conf.idx                  37068 non-null  float32\n",
      " 5   emp.var.rate                   37068 non-null  float32\n",
      " 6   poutcome_nonexistent           37068 non-null  uint8  \n",
      " 7   month                          37068 non-null  int64  \n",
      " 8   cons.price.idx                 37068 non-null  float32\n",
      " 9   poutcome_failure               37068 non-null  uint8  \n",
      " 10  contact_telephone              37068 non-null  uint8  \n",
      " 11  contact_cellular               37068 non-null  uint8  \n",
      " 12  default_no                     37068 non-null  uint8  \n",
      " 13  previous                       37068 non-null  int32  \n",
      " 14  job_retired                    37068 non-null  uint8  \n",
      " 15  default_unknown                37068 non-null  uint8  \n",
      " 16  day_of_week                    37068 non-null  int64  \n",
      " 17  age                            37068 non-null  int32  \n",
      " 18  education_university.degree    37068 non-null  uint8  \n",
      " 19  campaign                       37068 non-null  int32  \n",
      " 20  job_self-employed              37068 non-null  uint8  \n",
      " 21  marital_single                 37068 non-null  uint8  \n",
      " 22  education_basic.4y             37068 non-null  uint8  \n",
      " 23  education_professional.course  37068 non-null  uint8  \n",
      " 24  y                              37068 non-null  int64  \n",
      "dtypes: float32(5), int32(4), int64(3), uint8(13)\n",
      "memory usage: 2.9 MB\n"
     ]
    }
   ],
   "source": [
    "all_features = ['nr.employed', 'duration', 'pdays', 'poutcome_success', 'euribor3m',\n",
    " 'cons.conf.idx', 'emp.var.rate', 'poutcome_nonexistent', 'month',\n",
    " 'cons.price.idx', 'poutcome_failure', 'contact_telephone',\n",
    " 'contact_cellular', 'default_no', 'previous', 'job_retired',\n",
    " 'default_unknown', 'day_of_week', 'age', 'education_university.degree',\n",
    " 'campaign', 'job_self-employed', 'marital_single', 'education_basic.4y',\n",
    " 'education_professional.course', 'education_high.school', 'job_unknown',\n",
    " 'job_technician', 'loan_no', 'loan_yes', 'job_housemaid', 'job_blue-collar',\n",
    " 'marital_divorced', 'education_unknown', 'job_entrepreneur',\n",
    " 'education_basic.9y', 'job_admin.', 'housing_yes', 'housing_no',\n",
    " 'education_basic.6y', 'job_services', 'marital_married', 'housing_unknown',\n",
    " 'job_management', 'job_student', 'job_unemployed', 'marital_unknown',\n",
    " 'default_yes', 'loan_unknown', 'education_illiterate', 'y']\n",
    "\n",
    "picked_features = ['nr.employed', 'pdays', 'poutcome_success', 'euribor3m',\n",
    " 'cons.conf.idx', 'emp.var.rate', 'poutcome_nonexistent', 'month',\n",
    " 'cons.price.idx', 'poutcome_failure', 'contact_telephone',\n",
    " 'contact_cellular', 'default_no', 'previous', 'job_retired',\n",
    " 'default_unknown', 'day_of_week', 'age', 'education_university.degree',\n",
    " 'campaign', 'job_self-employed', 'marital_single', 'education_basic.4y',\n",
    " 'education_professional.course', 'y']\n",
    "\n",
    "print(len(picked_features))\n",
    "filtered_data = encoded_train_data[picked_features]"
   ]
  },
  {
   "cell_type": "code",
   "execution_count": 17,
   "metadata": {
    "ExecuteTime": {
     "end_time": "2020-03-29T13:40:43.351997Z",
     "start_time": "2020-03-29T13:40:43.075431Z"
    }
   },
   "outputs": [],
   "source": [
    "filtered_data.to_csv(\"./data/encoded/encoded_filtered_train_data_with_encoded_y.csv\", sep=';',index=False)"
   ]
  },
  {
   "cell_type": "code",
   "execution_count": 18,
   "metadata": {
    "ExecuteTime": {
     "end_time": "2020-03-29T13:40:44.477662Z",
     "start_time": "2020-03-29T13:40:44.435775Z"
    },
    "collapsed": true
   },
   "outputs": [
    {
     "name": "stdout",
     "output_type": "stream",
     "text": [
      "<class 'pandas.core.frame.DataFrame'>\n",
      "RangeIndex: 4119 entries, 0 to 4118\n",
      "Data columns (total 51 columns):\n",
      " #   Column                         Non-Null Count  Dtype  \n",
      "---  ------                         --------------  -----  \n",
      " 0   age                            4119 non-null   int32  \n",
      " 1   campaign                       4119 non-null   int32  \n",
      " 2   duration                       4119 non-null   int32  \n",
      " 3   pdays                          4119 non-null   int32  \n",
      " 4   previous                       4119 non-null   int32  \n",
      " 5   emp.var.rate                   4119 non-null   float32\n",
      " 6   cons.price.idx                 4119 non-null   float32\n",
      " 7   cons.conf.idx                  4119 non-null   float32\n",
      " 8   euribor3m                      4119 non-null   float32\n",
      " 9   nr.employed                    4119 non-null   float32\n",
      " 10  job_admin.                     4119 non-null   uint8  \n",
      " 11  job_blue-collar                4119 non-null   uint8  \n",
      " 12  job_entrepreneur               4119 non-null   uint8  \n",
      " 13  job_housemaid                  4119 non-null   uint8  \n",
      " 14  job_management                 4119 non-null   uint8  \n",
      " 15  job_retired                    4119 non-null   uint8  \n",
      " 16  job_self-employed              4119 non-null   uint8  \n",
      " 17  job_services                   4119 non-null   uint8  \n",
      " 18  job_student                    4119 non-null   uint8  \n",
      " 19  job_technician                 4119 non-null   uint8  \n",
      " 20  job_unemployed                 4119 non-null   uint8  \n",
      " 21  job_unknown                    4119 non-null   uint8  \n",
      " 22  marital_divorced               4119 non-null   uint8  \n",
      " 23  marital_married                4119 non-null   uint8  \n",
      " 24  marital_single                 4119 non-null   uint8  \n",
      " 25  marital_unknown                4119 non-null   uint8  \n",
      " 26  education_basic.4y             4119 non-null   uint8  \n",
      " 27  education_basic.6y             4119 non-null   uint8  \n",
      " 28  education_basic.9y             4119 non-null   uint8  \n",
      " 29  education_high.school          4119 non-null   uint8  \n",
      " 30  education_illiterate           4119 non-null   uint8  \n",
      " 31  education_professional.course  4119 non-null   uint8  \n",
      " 32  education_university.degree    4119 non-null   uint8  \n",
      " 33  education_unknown              4119 non-null   uint8  \n",
      " 34  default_no                     4119 non-null   uint8  \n",
      " 35  default_unknown                4119 non-null   uint8  \n",
      " 36  default_yes                    4119 non-null   uint8  \n",
      " 37  housing_no                     4119 non-null   uint8  \n",
      " 38  housing_unknown                4119 non-null   uint8  \n",
      " 39  housing_yes                    4119 non-null   uint8  \n",
      " 40  loan_no                        4119 non-null   uint8  \n",
      " 41  loan_unknown                   4119 non-null   uint8  \n",
      " 42  loan_yes                       4119 non-null   uint8  \n",
      " 43  contact_cellular               4119 non-null   uint8  \n",
      " 44  contact_telephone              4119 non-null   uint8  \n",
      " 45  poutcome_failure               4119 non-null   uint8  \n",
      " 46  poutcome_nonexistent           4119 non-null   uint8  \n",
      " 47  poutcome_success               4119 non-null   uint8  \n",
      " 48  month                          4119 non-null   int64  \n",
      " 49  day_of_week                    4119 non-null   int64  \n",
      " 50  y                              4119 non-null   int64  \n",
      "dtypes: float32(5), int32(5), int64(3), uint8(38)\n",
      "memory usage: 410.4 KB\n"
     ]
    }
   ],
   "source": [
    "encoded_test_data = encode_features(test_nominal_data, test_ordinal_data, test_numerical_data, ordinal_map)\n",
    "cols_at_end = ['y']\n",
    "# sets y as the last column of the data frame\n",
    "encoded_test_data = encoded_test_data[[c for c in encoded_test_data if c not in cols_at_end] + [c for c in cols_at_end if c in encoded_test_data]]\n",
    "encoded_test_data.info()\n",
    "#encoded_test_data.to_csv(\"./data/encoded\\encoded_test_data_with_encoded_y.csv\", sep=';',index=False)"
   ]
  },
  {
   "cell_type": "code",
   "execution_count": 19,
   "metadata": {
    "ExecuteTime": {
     "end_time": "2020-03-29T13:40:49.393540Z",
     "start_time": "2020-03-29T13:40:49.115877Z"
    }
   },
   "outputs": [
    {
     "name": "stdout",
     "output_type": "stream",
     "text": [
      "25\n"
     ]
    }
   ],
   "source": [
    "print(len(picked_features))\n",
    "filtered_data = encoded_train_data[picked_features]\n",
    "filtered_data.to_csv(\"./data/encoded/encoded_filtered_test_data_with_encoded_y.csv\", sep=';',index=False)"
   ]
  },
  {
   "cell_type": "code",
   "execution_count": null,
   "metadata": {},
   "outputs": [],
   "source": []
  }
 ],
 "metadata": {
  "kernelspec": {
   "display_name": "Python 3",
   "language": "python",
   "name": "python3"
  },
  "language_info": {
   "codemirror_mode": {
    "name": "ipython",
    "version": 3
   },
   "file_extension": ".py",
   "mimetype": "text/x-python",
   "name": "python",
   "nbconvert_exporter": "python",
   "pygments_lexer": "ipython3",
   "version": "3.7.6"
  },
  "toc": {
   "base_numbering": 1,
   "nav_menu": {},
   "number_sections": true,
   "sideBar": true,
   "skip_h1_title": false,
   "title_cell": "Table of Contents",
   "title_sidebar": "Contents",
   "toc_cell": false,
   "toc_position": {},
   "toc_section_display": true,
   "toc_window_display": false
  }
 },
 "nbformat": 4,
 "nbformat_minor": 2
}
