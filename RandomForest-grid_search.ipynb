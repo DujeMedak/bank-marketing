{
 "cells": [
  {
   "cell_type": "code",
   "execution_count": 1,
   "metadata": {
    "ExecuteTime": {
     "end_time": "2020-03-29T18:58:27.016117Z",
     "start_time": "2020-03-29T18:58:25.996287Z"
    },
    "code_folding": [
     0
    ]
   },
   "outputs": [],
   "source": [
    "#imports\n",
    "import numpy as np\n",
    "import matplotlib.pyplot as plt \n",
    "%matplotlib inline\n",
    "\n",
    "from utils.data import  DataLoader\n",
    "from utils.metrics import calc_metrics\n",
    "from utils.visulization import plot_confusion_matrix\n",
    "#feature scaling\n",
    "from sklearn.preprocessing import StandardScaler\n",
    "from sklearn.ensemble import RandomForestClassifier\n",
    "from sklearn import tree"
   ]
  },
  {
   "cell_type": "markdown",
   "metadata": {},
   "source": [
    "# load and split the data"
   ]
  },
  {
   "cell_type": "code",
   "execution_count": 2,
   "metadata": {
    "ExecuteTime": {
     "end_time": "2020-03-29T18:58:27.024057Z",
     "start_time": "2020-03-29T18:58:27.018073Z"
    }
   },
   "outputs": [],
   "source": [
    "dataset = \"filtered\"\n",
    "\n",
    "if dataset == \"filtered\":\n",
    "    filename='encoded/encoded_filtered_train_data_with_encoded_y.csv'\n",
    "    test_filename='encoded/encoded_test_data_with_encoded_y.csv'\n"
   ]
  },
  {
   "cell_type": "code",
   "execution_count": 3,
   "metadata": {
    "ExecuteTime": {
     "end_time": "2020-03-29T18:58:27.645429Z",
     "start_time": "2020-03-29T18:58:27.027047Z"
    },
    "scrolled": true
   },
   "outputs": [
    {
     "name": "stdout",
     "output_type": "stream",
     "text": [
      "loading test data from: C:\\Users\\dujem\\PycharmProjects\\bank-marketing\\data\\encoded/encoded_test_data_with_encoded_y.csv\n",
      "loading data from: C:\\Users\\dujem\\PycharmProjects\\bank-marketing\\data\\encoded/encoded_filtered_train_data_with_encoded_y.csv\n",
      "memory occupation before data type conversion: 13.82 MB\n",
      "memory occupation after data type conversion: 7.04 MB\n",
      "memory occupation before data type conversion: 1.6 MB\n",
      "memory occupation after data type conversion: 820.71 KB\n"
     ]
    }
   ],
   "source": [
    "dl = DataLoader(\"./config.json\")\n",
    "dl.load_csv_data(filename=filename, test_filename=test_filename)\n",
    "train_data = dl.get_data(include_target_column = True)\n",
    "test_data = dl.get_test_data(include_target_column = True)\n",
    "#train_data.info()\n",
    "# split the data\n",
    "X_train, y_train = dl.get_features_and_target(train_data)\n",
    "X_test, y_test = dl.get_features_and_target(test_data)"
   ]
  },
  {
   "cell_type": "code",
   "execution_count": 4,
   "metadata": {
    "ExecuteTime": {
     "end_time": "2020-03-29T18:58:28.980678Z",
     "start_time": "2020-03-29T18:58:28.978675Z"
    },
    "code_folding": [
     0
    ]
   },
   "outputs": [],
   "source": [
    "#TODO check how to use this\n",
    "\"\"\"\n",
    "sc_X = StandardScaler()\n",
    "X_train = sc_X.fit_transform(X_train)\n",
    "X_test = sc_X.transform(X_test)\n",
    "\"\"\";"
   ]
  },
  {
   "cell_type": "markdown",
   "metadata": {},
   "source": [
    "# Random search hyperparameters"
   ]
  },
  {
   "cell_type": "code",
   "execution_count": 6,
   "metadata": {
    "ExecuteTime": {
     "end_time": "2020-03-29T18:58:36.227377Z",
     "start_time": "2020-03-29T18:58:36.213375Z"
    }
   },
   "outputs": [
    {
     "name": "stdout",
     "output_type": "stream",
     "text": [
      "{'n_estimators': [200, 400, 600, 800, 1000, 1200, 1400, 1600, 1800, 2000], 'max_features': ['auto', 'sqrt'], 'max_depth': [10, 20, 30, 40, 50, 60, 70, 80, 90, 100, 110, None], 'min_samples_split': [2, 5, 10], 'min_samples_leaf': [1, 2, 4], 'bootstrap': [True, False]}\n"
     ]
    },
    {
     "data": {
      "text/plain": [
       "{'bootstrap': [True, False],\n",
       " 'max_depth': [10, 20, 30, 40, 50, 60, 70, 80, 90, 100, None],\n",
       " 'max_features': ['auto', 'sqrt'],\n",
       " 'min_samples_leaf': [1, 2, 4],\n",
       " 'min_samples_split': [2, 5, 10],\n",
       " 'n_estimators': [200, 400, 600, 800, 1000, 1200, 1400, 1600, 1800, 2000]}"
      ]
     },
     "execution_count": 6,
     "metadata": {},
     "output_type": "execute_result"
    }
   ],
   "source": [
    "from sklearn.model_selection import RandomizedSearchCV\n",
    "# Number of trees in random forest\n",
    "n_estimators = [int(x) for x in np.linspace(start = 200, stop = 2000, num = 10)]\n",
    "# Number of features to consider at every split\n",
    "max_features = ['auto', 'sqrt']\n",
    "# Maximum number of levels in tree\n",
    "max_depth = [int(x) for x in np.linspace(10, 110, num = 11)]\n",
    "max_depth.append(None)\n",
    "# Minimum number of samples required to split a node\n",
    "min_samples_split = [2, 5, 10]\n",
    "# Minimum number of samples required at each leaf node\n",
    "min_samples_leaf = [1, 2, 4]\n",
    "# Method of selecting samples for training each tree\n",
    "bootstrap = [True, False]\n",
    "# Create the random grid\n",
    "random_grid = {'n_estimators': n_estimators,\n",
    "               'max_features': max_features,\n",
    "               'max_depth': max_depth,\n",
    "               'min_samples_split': min_samples_split,\n",
    "               'min_samples_leaf': min_samples_leaf,\n",
    "               'bootstrap': bootstrap}\n",
    "print(random_grid)\n",
    "{'bootstrap': [True, False],\n",
    " 'max_depth': [10, 20, 30, 40, 50, 60, 70, 80, 90, 100, None],\n",
    " 'max_features': ['auto', 'sqrt'],\n",
    " 'min_samples_leaf': [1, 2, 4],\n",
    " 'min_samples_split': [2, 5, 10],\n",
    " 'n_estimators': [200, 400, 600, 800, 1000, 1200, 1400, 1600, 1800, 2000]}"
   ]
  },
  {
   "cell_type": "code",
   "execution_count": 8,
   "metadata": {
    "ExecuteTime": {
     "end_time": "2020-03-29T19:33:49.329644Z",
     "start_time": "2020-03-29T18:59:13.178779Z"
    },
    "collapsed": true
   },
   "outputs": [
    {
     "name": "stdout",
     "output_type": "stream",
     "text": [
      "Fitting 3 folds for each of 100 candidates, totalling 300 fits\n"
     ]
    },
    {
     "name": "stderr",
     "output_type": "stream",
     "text": [
      "[Parallel(n_jobs=-1)]: Using backend LokyBackend with 8 concurrent workers.\n",
      "[Parallel(n_jobs=-1)]: Done  25 tasks      | elapsed:  2.2min\n",
      "[Parallel(n_jobs=-1)]: Done 146 tasks      | elapsed: 15.2min\n",
      "[Parallel(n_jobs=-1)]: Done 300 out of 300 | elapsed: 33.9min finished\n"
     ]
    },
    {
     "data": {
      "text/plain": [
       "RandomizedSearchCV(cv=3, error_score=nan,\n",
       "                   estimator=RandomForestClassifier(bootstrap=True,\n",
       "                                                    ccp_alpha=0.0,\n",
       "                                                    class_weight=None,\n",
       "                                                    criterion='gini',\n",
       "                                                    max_depth=None,\n",
       "                                                    max_features='auto',\n",
       "                                                    max_leaf_nodes=None,\n",
       "                                                    max_samples=None,\n",
       "                                                    min_impurity_decrease=0.0,\n",
       "                                                    min_impurity_split=None,\n",
       "                                                    min_samples_leaf=1,\n",
       "                                                    min_samples_split=2,\n",
       "                                                    min_weight_fraction_leaf=0.0,\n",
       "                                                    n_estimators=100,\n",
       "                                                    n_jobs...\n",
       "                   param_distributions={'bootstrap': [True, False],\n",
       "                                        'max_depth': [10, 20, 30, 40, 50, 60,\n",
       "                                                      70, 80, 90, 100, 110,\n",
       "                                                      None],\n",
       "                                        'max_features': ['auto', 'sqrt'],\n",
       "                                        'min_samples_leaf': [1, 2, 4],\n",
       "                                        'min_samples_split': [2, 5, 10],\n",
       "                                        'n_estimators': [200, 400, 600, 800,\n",
       "                                                         1000, 1200, 1400, 1600,\n",
       "                                                         1800, 2000]},\n",
       "                   pre_dispatch='2*n_jobs', random_state=512, refit=True,\n",
       "                   return_train_score=False, scoring=None, verbose=2)"
      ]
     },
     "execution_count": 8,
     "metadata": {},
     "output_type": "execute_result"
    }
   ],
   "source": [
    "# Use the random grid to search for best hyperparameters\n",
    "# First create the base model to tune\n",
    "rf = RandomForestClassifier()\n",
    "# Random search of parameters, using 3 fold cross validation, \n",
    "# search across 100 different combinations, and use all available cores\n",
    "rf_random = RandomizedSearchCV(estimator = rf, \n",
    "                               param_distributions = random_grid,\n",
    "                               n_iter = 100, cv = 3, verbose=2, \n",
    "                               random_state=512, n_jobs = -1)\n",
    "# Fit the random search model\n",
    "#rf_random.fit(X_train, y_train) # this takes around 35 minutes\n",
    "\n",
    "\"\"\"\n",
    "results:\n",
    "\n",
    "{'n_estimators': 2000,\n",
    " 'min_samples_split': 10,\n",
    " 'min_samples_leaf': 4,\n",
    " 'max_features': 'auto',\n",
    " 'max_depth': 10,\n",
    " 'bootstrap': True}\n",
    "\"\"\"\n"
   ]
  },
  {
   "cell_type": "code",
   "execution_count": 9,
   "metadata": {
    "ExecuteTime": {
     "end_time": "2020-03-29T19:35:02.236921Z",
     "start_time": "2020-03-29T19:35:02.228941Z"
    }
   },
   "outputs": [
    {
     "data": {
      "text/plain": [
       "{'n_estimators': 2000,\n",
       " 'min_samples_split': 10,\n",
       " 'min_samples_leaf': 4,\n",
       " 'max_features': 'auto',\n",
       " 'max_depth': 10,\n",
       " 'bootstrap': True}"
      ]
     },
     "execution_count": 9,
     "metadata": {},
     "output_type": "execute_result"
    }
   ],
   "source": [
    "rf_random.best_params_"
   ]
  },
  {
   "cell_type": "markdown",
   "metadata": {},
   "source": [
    "# evaluating the best randomforest (with randomly found hyperparameters)"
   ]
  },
  {
   "cell_type": "code",
   "execution_count": 10,
   "metadata": {
    "ExecuteTime": {
     "end_time": "2020-03-29T19:38:46.729599Z",
     "start_time": "2020-03-29T19:38:44.456470Z"
    }
   },
   "outputs": [
    {
     "name": "stdout",
     "output_type": "stream",
     "text": [
      "Auc:0.6136360613878767\n",
      "Prec:0.6432748538011696\n",
      "Rec:0.24390243902439024\n",
      "Acc:0.9024034959941734\n",
      "F1:0.3536977491961415\n",
      "AP:0.2396833900489118\n"
     ]
    },
    {
     "data": {
      "image/png": "[encoded data removed]",
      "text/plain": [
       "<Figure size 432x288 with 1 Axes>"
      ]
     },
     "metadata": {
      "needs_background": "light"
     },
     "output_type": "display_data"
    }
   ],
   "source": [
    "best_random = rf_random.best_estimator_\n",
    "#prediction\n",
    "y_pred = best_random.predict(X_test)\n",
    "y_pred_proba = best_random.predict_proba(X_test)\n",
    "calc_metrics(y_test, y_pred)\n",
    "from utils.metrics import plot_cumulative_gain\n",
    "plot_cumulative_gain(y_test, y_pred_proba)\n",
    "\"\"\"\n",
    "default classifier metric:\n",
    "Auc:0.6110361199031837\n",
    "Prec:0.3375959079283887\n",
    "Rec:0.2926829268292683 <-\n",
    "Acc:0.8596746783199806\n",
    "F1:0.31353919239904987\n",
    "AP:0.17625454045253935\n",
    "\n",
    "Random RF metrics:\n",
    "Auc:0.6136360613878767\n",
    "Prec:0.6432748538011696 <-\n",
    "Rec:0.24390243902439024\n",
    "Acc:0.9024034959941734 <-\n",
    "F1:0.3536977491961415\n",
    "AP:0.2396833900489118\n",
    "\n",
    "Grid search:\n",
    "Auc:0.5875193741280131\n",
    "Prec:0.7155172413793104\n",
    "Rec:0.18403547671840353\n",
    "Acc:0.9026462733673222\n",
    "F1:0.29276895943562614\n",
    "AP:0.2210226299362451\n",
    "Cumulative gains izgleda dosta bolje od defaultnog\n",
    "\"\"\""
   ]
  },
  {
   "cell_type": "markdown",
   "metadata": {},
   "source": [
    "# Comapre with default RF classifier"
   ]
  },
  {
   "cell_type": "code",
   "execution_count": 11,
   "metadata": {
    "ExecuteTime": {
     "end_time": "2020-03-29T19:39:31.054788Z",
     "start_time": "2020-03-29T19:39:28.594143Z"
    },
    "scrolled": true
   },
   "outputs": [],
   "source": [
    "clf = RandomForestClassifier()\n",
    "clf.fit(X_train, y_train);"
   ]
  },
  {
   "cell_type": "markdown",
   "metadata": {},
   "source": [
    "# Make predictions on test set and display evaluation results"
   ]
  },
  {
   "cell_type": "code",
   "execution_count": 12,
   "metadata": {
    "ExecuteTime": {
     "end_time": "2020-03-29T19:39:33.868097Z",
     "start_time": "2020-03-29T19:39:33.669271Z"
    }
   },
   "outputs": [],
   "source": [
    "#prediction\n",
    "y_pred = clf.predict(X_test)\n",
    "y_pred_proba = clf.predict_proba(X_test)"
   ]
  },
  {
   "cell_type": "code",
   "execution_count": 13,
   "metadata": {
    "ExecuteTime": {
     "end_time": "2020-03-29T19:39:34.868666Z",
     "start_time": "2020-03-29T19:39:34.855701Z"
    }
   },
   "outputs": [
    {
     "name": "stdout",
     "output_type": "stream",
     "text": [
      "Auc:0.6110361199031837\n",
      "Prec:0.3375959079283887\n",
      "Rec:0.2926829268292683\n",
      "Acc:0.8596746783199806\n",
      "F1:0.31353919239904987\n",
      "AP:0.17625454045253935\n"
     ]
    }
   ],
   "source": [
    "calc_metrics(y_test, y_pred)\n",
    "#plot_confusion_matrix(y_test, y_pred, title=\"Confusion matrix\");"
   ]
  },
  {
   "cell_type": "code",
   "execution_count": 14,
   "metadata": {
    "ExecuteTime": {
     "end_time": "2020-03-29T19:41:24.808210Z",
     "start_time": "2020-03-29T19:41:24.670574Z"
    }
   },
   "outputs": [
    {
     "data": {
      "image/png": "[encoded data removed]",
      "text/plain": [
       "<Figure size 432x288 with 1 Axes>"
      ]
     },
     "metadata": {
      "needs_background": "light"
     },
     "output_type": "display_data"
    }
   ],
   "source": [
    "from utils.metrics import plot_cumulative_gain\n",
    "plot_cumulative_gain(y_test, y_pred_proba)"
   ]
  },
  {
   "cell_type": "markdown",
   "metadata": {},
   "source": [
    "# do the grid search now"
   ]
  },
  {
   "cell_type": "code",
   "execution_count": 16,
   "metadata": {
    "ExecuteTime": {
     "end_time": "2020-03-29T19:48:08.909096Z",
     "start_time": "2020-03-29T19:48:08.904111Z"
    }
   },
   "outputs": [],
   "source": [
    "from sklearn.model_selection import GridSearchCV\n",
    "# Create the parameter grid based on the results of random search \n",
    "param_grid = {\n",
    "    'bootstrap': [True],\n",
    "    'max_depth': [3, 7, 10],\n",
    "    'max_features': ['auto'],\n",
    "    'min_samples_leaf': [4, 6],\n",
    "    'min_samples_split': [10, 15, 20],\n",
    "    'n_estimators': [2000]\n",
    "}\n",
    "# Create a based model\n",
    "rf = RandomForestClassifier()\n",
    "# Instantiate the grid search model\n",
    "grid_search = GridSearchCV(estimator = rf, param_grid = param_grid, \n",
    "                          cv = 3, n_jobs = -1, verbose = 2)"
   ]
  },
  {
   "cell_type": "code",
   "execution_count": 17,
   "metadata": {
    "ExecuteTime": {
     "end_time": "2020-03-29T19:55:15.156900Z",
     "start_time": "2020-03-29T19:50:17.536398Z"
    },
    "collapsed": true
   },
   "outputs": [
    {
     "name": "stdout",
     "output_type": "stream",
     "text": [
      "Fitting 3 folds for each of 18 candidates, totalling 54 fits\n"
     ]
    },
    {
     "name": "stderr",
     "output_type": "stream",
     "text": [
      "[Parallel(n_jobs=-1)]: Using backend LokyBackend with 8 concurrent workers.\n",
      "[Parallel(n_jobs=-1)]: Done  25 tasks      | elapsed:  2.1min\n",
      "[Parallel(n_jobs=-1)]: Done  54 out of  54 | elapsed:  4.7min finished\n"
     ]
    },
    {
     "data": {
      "text/plain": [
       "GridSearchCV(cv=3, error_score=nan,\n",
       "             estimator=RandomForestClassifier(bootstrap=True, ccp_alpha=0.0,\n",
       "                                              class_weight=None,\n",
       "                                              criterion='gini', max_depth=None,\n",
       "                                              max_features='auto',\n",
       "                                              max_leaf_nodes=None,\n",
       "                                              max_samples=None,\n",
       "                                              min_impurity_decrease=0.0,\n",
       "                                              min_impurity_split=None,\n",
       "                                              min_samples_leaf=1,\n",
       "                                              min_samples_split=2,\n",
       "                                              min_weight_fraction_leaf=0.0,\n",
       "                                              n_estimators=100, n_jobs=None,\n",
       "                                              oob_score=False,\n",
       "                                              random_state=None, verbose=0,\n",
       "                                              warm_start=False),\n",
       "             iid='deprecated', n_jobs=-1,\n",
       "             param_grid={'bootstrap': [True], 'max_depth': [3, 7, 10],\n",
       "                         'max_features': ['auto'], 'min_samples_leaf': [4, 6],\n",
       "                         'min_samples_split': [10, 15, 20],\n",
       "                         'n_estimators': [2000]},\n",
       "             pre_dispatch='2*n_jobs', refit=True, return_train_score=False,\n",
       "             scoring=None, verbose=2)"
      ]
     },
     "execution_count": 17,
     "metadata": {},
     "output_type": "execute_result"
    }
   ],
   "source": [
    "grid_search.fit(X_train, y_train)"
   ]
  },
  {
   "cell_type": "code",
   "execution_count": 18,
   "metadata": {
    "ExecuteTime": {
     "end_time": "2020-03-29T19:55:45.961197Z",
     "start_time": "2020-03-29T19:55:45.956209Z"
    }
   },
   "outputs": [
    {
     "data": {
      "text/plain": [
       "{'bootstrap': True,\n",
       " 'max_depth': 3,\n",
       " 'max_features': 'auto',\n",
       " 'min_samples_leaf': 6,\n",
       " 'min_samples_split': 15,\n",
       " 'n_estimators': 2000}"
      ]
     },
     "execution_count": 18,
     "metadata": {},
     "output_type": "execute_result"
    }
   ],
   "source": [
    "grid_search.best_params_"
   ]
  },
  {
   "cell_type": "code",
   "execution_count": 19,
   "metadata": {
    "ExecuteTime": {
     "end_time": "2020-03-29T19:56:20.148747Z",
     "start_time": "2020-03-29T19:56:20.145740Z"
    }
   },
   "outputs": [],
   "source": [
    "\"\"\"\n",
    "results:\n",
    "{'bootstrap': True,\n",
    " 'max_depth': 3,\n",
    " 'max_features': 'auto',\n",
    " 'min_samples_leaf': 6,\n",
    " 'min_samples_split': 15,\n",
    " 'n_estimators': 2000}\n",
    " \"\"\";"
   ]
  },
  {
   "cell_type": "code",
   "execution_count": 20,
   "metadata": {
    "ExecuteTime": {
     "end_time": "2020-03-29T19:57:23.581158Z",
     "start_time": "2020-03-29T19:57:22.419267Z"
    }
   },
   "outputs": [
    {
     "name": "stdout",
     "output_type": "stream",
     "text": [
      "Auc:0.5875193741280131\n",
      "Prec:0.7155172413793104\n",
      "Rec:0.18403547671840353\n",
      "Acc:0.9026462733673222\n",
      "F1:0.29276895943562614\n",
      "AP:0.2210226299362451\n"
     ]
    },
    {
     "data": {
      "image/png": "[encoded data removed]",
      "text/plain": [
       "<Figure size 432x288 with 1 Axes>"
      ]
     },
     "metadata": {
      "needs_background": "light"
     },
     "output_type": "display_data"
    }
   ],
   "source": [
    "best_grid = grid_search.best_estimator_\n",
    "#prediction\n",
    "y_pred = best_grid.predict(X_test)\n",
    "y_pred_proba = best_grid.predict_proba(X_test)\n",
    "calc_metrics(y_test, y_pred)\n",
    "from utils.metrics import plot_cumulative_gain\n",
    "plot_cumulative_gain(y_test, y_pred_proba)"
   ]
  },
  {
   "cell_type": "markdown",
   "metadata": {},
   "source": [
    "# manually create classifier"
   ]
  },
  {
   "cell_type": "code",
   "execution_count": null,
   "metadata": {},
   "outputs": [],
   "source": [
    "clf = RandomForestClassifier()\n",
    "clf.fit(X_train, y_train);\n",
    "#prediction\n",
    "y_pred = clf.predict(X_test)\n",
    "y_pred_proba = clf.predict_proba(X_test)\n",
    "calc_metrics(y_test, y_pred)\n",
    "from utils.metrics import plot_cumulative_gain\n",
    "plot_cumulative_gain(y_test, y_pred_proba)"
   ]
  },
  {
   "cell_type": "markdown",
   "metadata": {
    "ExecuteTime": {
     "end_time": "2020-03-29T14:57:29.254501Z",
     "start_time": "2020-03-29T14:57:29.252509Z"
    }
   },
   "source": [
    "# Finding important feature"
   ]
  },
  {
   "cell_type": "code",
   "execution_count": null,
   "metadata": {
    "ExecuteTime": {
     "end_time": "2020-03-29T14:57:55.093381Z",
     "start_time": "2020-03-29T14:57:54.684089Z"
    }
   },
   "outputs": [],
   "source": [
    "import pandas as pd\n",
    "feature_imp = pd.Series(clf.feature_importances_,index=X_train.columns.values).sort_values(ascending=False)\n",
    "import matplotlib.pyplot as plt\n",
    "import seaborn as sns\n",
    "%matplotlib inline\n",
    "# Creating a bar plot\n",
    "fig = plt.figure(figsize=(16,16))\n",
    "sns.barplot(x=feature_imp, y=feature_imp.index)\n",
    "# Add labels to your graph\n",
    "plt.xlabel('Feature Importance Score')\n",
    "plt.ylabel('Features')\n",
    "plt.title(\"Visualizing Important Features\")\n",
    "plt.legend()\n",
    "plt.show()"
   ]
  },
  {
   "cell_type": "code",
   "execution_count": null,
   "metadata": {},
   "outputs": [],
   "source": []
  }
 ],
 "metadata": {
  "kernelspec": {
   "display_name": "Python 3",
   "language": "python",
   "name": "python3"
  },
  "language_info": {
   "codemirror_mode": {
    "name": "ipython",
    "version": 3
   },
   "file_extension": ".py",
   "mimetype": "text/x-python",
   "name": "python",
   "nbconvert_exporter": "python",
   "pygments_lexer": "ipython3",
   "version": "3.7.6"
  },
  "toc": {
   "base_numbering": 1,
   "nav_menu": {},
   "number_sections": true,
   "sideBar": true,
   "skip_h1_title": false,
   "title_cell": "Table of Contents",
   "title_sidebar": "Contents",
   "toc_cell": false,
   "toc_position": {},
   "toc_section_display": true,
   "toc_window_display": false
  }
 },
 "nbformat": 4,
 "nbformat_minor": 4
}
